{
  "nbformat": 4,
  "nbformat_minor": 0,
  "metadata": {
    "colab": {
      "name": "Seq2SeqAllenNLP-BERT.ipynb",
      "version": "0.3.2",
      "provenance": [],
      "collapsed_sections": [],
      "include_colab_link": true
    },
    "kernelspec": {
      "name": "python3",
      "display_name": "Python 3"
    },
    "accelerator": "GPU"
  },
  "cells": [
    {
      "cell_type": "markdown",
      "metadata": {
        "id": "view-in-github",
        "colab_type": "text"
      },
      "source": [
        "<a href=\"https://colab.research.google.com/github/paulxuereb/ML/blob/master/Seq2SeqAllenNLP_BERT.ipynb\" target=\"_parent\"><img src=\"https://colab.research.google.com/assets/colab-badge.svg\" alt=\"Open In Colab\"/></a>"
      ]
    },
    {
      "metadata": {
        "id": "fRhwNb-LG7jC",
        "colab_type": "text"
      },
      "cell_type": "markdown",
      "source": [
        "http://www.realworldnlpbook.com/blog/building-seq2seq-machine-translation-models-using-allennlp.html"
      ]
    },
    {
      "metadata": {
        "id": "PDiQMwzoG4qZ",
        "colab_type": "code",
        "outputId": "d47bdc6b-6652-449d-a267-08e874612244",
        "colab": {
          "base_uri": "https://localhost:8080/",
          "height": 3363
        }
      },
      "cell_type": "code",
      "source": [
        "!pip install AllenNLP"
      ],
      "execution_count": 1,
      "outputs": [
        {
          "output_type": "stream",
          "text": [
            "Collecting AllenNLP\n",
            "\u001b[?25l  Downloading https://files.pythonhosted.org/packages/a4/c8/10342a6068a8d156a5947e03c95525d559e71ad62de0f2585ab922e14533/allennlp-0.8.3-py3-none-any.whl (5.6MB)\n",
            "\u001b[K    100% |████████████████████████████████| 5.6MB 8.8MB/s \n",
            "\u001b[?25hCollecting pytorch-pretrained-bert>=0.6.0 (from AllenNLP)\n",
            "\u001b[?25l  Downloading https://files.pythonhosted.org/packages/5d/3c/d5fa084dd3a82ffc645aba78c417e6072ff48552e3301b1fa3bd711e03d4/pytorch_pretrained_bert-0.6.1-py3-none-any.whl (114kB)\n",
            "\u001b[K    100% |████████████████████████████████| 122kB 37.5MB/s \n",
            "\u001b[?25hRequirement already satisfied: pytest in /usr/local/lib/python3.6/dist-packages (from AllenNLP) (3.6.4)\n",
            "Collecting conllu==0.11 (from AllenNLP)\n",
            "  Downloading https://files.pythonhosted.org/packages/d4/2c/856344d9b69baf5b374c395b4286626181a80f0c2b2f704914d18a1cea47/conllu-0.11-py2.py3-none-any.whl\n",
            "Collecting awscli>=1.11.91 (from AllenNLP)\n",
            "\u001b[?25l  Downloading https://files.pythonhosted.org/packages/67/97/ff852dd99ccf679fecba6ed43cd65a808d8ed1f74bbc9757c37dbab85e68/awscli-1.16.145-py2.py3-none-any.whl (1.5MB)\n",
            "\u001b[K    100% |████████████████████████████████| 1.5MB 25.6MB/s \n",
            "\u001b[?25hCollecting moto>=1.3.4 (from AllenNLP)\n",
            "\u001b[?25l  Downloading https://files.pythonhosted.org/packages/28/35/f3dc85fa8fa2541b77849459363bb0d6e02bd44ba05afbd3ee3e035a6b14/moto-1.3.8-py2.py3-none-any.whl (580kB)\n",
            "\u001b[K    100% |████████████████████████████████| 583kB 31.6MB/s \n",
            "\u001b[?25hRequirement already satisfied: msgpack<0.6.0,>=0.5.6 in /usr/local/lib/python3.6/dist-packages (from AllenNLP) (0.5.6)\n",
            "Collecting flask-cors>=3.0.7 (from AllenNLP)\n",
            "  Downloading https://files.pythonhosted.org/packages/65/cb/683f71ff8daa3aea0a5cbb276074de39f9ab66d3fbb8ad5efb5bb83e90d2/Flask_Cors-3.0.7-py2.py3-none-any.whl\n",
            "Requirement already satisfied: numpy in /usr/local/lib/python3.6/dist-packages (from AllenNLP) (1.16.3)\n",
            "Requirement already satisfied: nltk in /usr/local/lib/python3.6/dist-packages (from AllenNLP) (3.2.5)\n",
            "Requirement already satisfied: boto3 in /usr/local/lib/python3.6/dist-packages (from AllenNLP) (1.9.134)\n",
            "Requirement already satisfied: spacy<2.2,>=2.0 in /usr/local/lib/python3.6/dist-packages (from AllenNLP) (2.0.18)\n",
            "Requirement already satisfied: pytz>=2017.3 in /usr/local/lib/python3.6/dist-packages (from AllenNLP) (2018.9)\n",
            "Requirement already satisfied: h5py in /usr/local/lib/python3.6/dist-packages (from AllenNLP) (2.8.0)\n",
            "Collecting ftfy (from AllenNLP)\n",
            "\u001b[?25l  Downloading https://files.pythonhosted.org/packages/8f/86/df789c5834f15ae1ca53a8d4c1fc4788676c2e32112f6a786f2625d9c6e6/ftfy-5.5.1-py3-none-any.whl (43kB)\n",
            "\u001b[K    100% |████████████████████████████████| 51kB 28.9MB/s \n",
            "\u001b[?25hCollecting word2number>=1.1 (from AllenNLP)\n",
            "  Downloading https://files.pythonhosted.org/packages/4a/29/a31940c848521f0725f0df6b25dca8917f13a2025b0e8fcbe5d0457e45e6/word2number-1.1.zip\n",
            "Collecting jsonnet>=0.10.0; sys_platform != \"win32\" (from AllenNLP)\n",
            "\u001b[?25l  Downloading https://files.pythonhosted.org/packages/60/dc/3abd3971869a741d7acdba166d71d4f9366b6b53028dfd56f95de356af0f/jsonnet-0.12.1.tar.gz (240kB)\n",
            "\u001b[K    100% |████████████████████████████████| 245kB 35.2MB/s \n",
            "\u001b[?25hRequirement already satisfied: torch>=0.4.1 in /usr/local/lib/python3.6/dist-packages (from AllenNLP) (1.0.1.post2)\n",
            "Collecting flaky (from AllenNLP)\n",
            "  Downloading https://files.pythonhosted.org/packages/02/42/cca66659a786567c8af98587d66d75e7d2b6e65662f8daab75db708ac35b/flaky-3.5.3-py2.py3-none-any.whl\n",
            "Requirement already satisfied: scipy in /usr/local/lib/python3.6/dist-packages (from AllenNLP) (1.2.1)\n",
            "Collecting overrides (from AllenNLP)\n",
            "  Downloading https://files.pythonhosted.org/packages/de/55/3100c6d14c1ed177492fcf8f07c4a7d2d6c996c0a7fc6a9a0a41308e7eec/overrides-1.9.tar.gz\n",
            "Requirement already satisfied: sqlparse>=0.2.4 in /usr/local/lib/python3.6/dist-packages (from AllenNLP) (0.3.0)\n",
            "Collecting numpydoc>=0.8.0 (from AllenNLP)\n",
            "  Downloading https://files.pythonhosted.org/packages/6a/f3/7cfe4c616e4b9fe05540256cc9c6661c052c8a4cec2915732793b36e1843/numpydoc-0.9.1.tar.gz\n",
            "Requirement already satisfied: gevent>=1.3.6 in /usr/local/lib/python3.6/dist-packages (from AllenNLP) (1.4.0)\n",
            "Collecting unidecode (from AllenNLP)\n",
            "\u001b[?25l  Downloading https://files.pythonhosted.org/packages/31/39/53096f9217b057cb049fe872b7fc7ce799a1a89b76cf917d9639e7a558b5/Unidecode-1.0.23-py2.py3-none-any.whl (237kB)\n",
            "\u001b[K    100% |████████████████████████████████| 245kB 34.1MB/s \n",
            "\u001b[?25hRequirement already satisfied: matplotlib>=2.2.3 in /usr/local/lib/python3.6/dist-packages (from AllenNLP) (3.0.3)\n",
            "Requirement already satisfied: editdistance in /usr/local/lib/python3.6/dist-packages (from AllenNLP) (0.5.3)\n",
            "Collecting tensorboardX>=1.2 (from AllenNLP)\n",
            "\u001b[?25l  Downloading https://files.pythonhosted.org/packages/5c/76/89dd44458eb976347e5a6e75eb79fecf8facd46c1ce259bad54e0044ea35/tensorboardX-1.6-py2.py3-none-any.whl (129kB)\n",
            "\u001b[K    100% |████████████████████████████████| 133kB 41.6MB/s \n",
            "\u001b[?25hCollecting parsimonious>=0.8.0 (from AllenNLP)\n",
            "\u001b[?25l  Downloading https://files.pythonhosted.org/packages/02/fc/067a3f89869a41009e1a7cdfb14725f8ddd246f30f63c645e8ef8a1c56f4/parsimonious-0.8.1.tar.gz (45kB)\n",
            "\u001b[K    100% |████████████████████████████████| 51kB 26.5MB/s \n",
            "\u001b[?25hRequirement already satisfied: requests>=2.18 in /usr/local/lib/python3.6/dist-packages (from AllenNLP) (2.21.0)\n",
            "Requirement already satisfied: tqdm>=4.19 in /usr/local/lib/python3.6/dist-packages (from AllenNLP) (4.28.1)\n",
            "Requirement already satisfied: scikit-learn in /usr/local/lib/python3.6/dist-packages (from AllenNLP) (0.20.3)\n",
            "Requirement already satisfied: flask>=1.0.2 in /usr/local/lib/python3.6/dist-packages (from AllenNLP) (1.0.2)\n",
            "Collecting responses>=0.7 (from AllenNLP)\n",
            "  Downloading https://files.pythonhosted.org/packages/d1/5a/b887e89925f1de7890ef298a74438371ed4ed29b33def9e6d02dc6036fd8/responses-0.10.6-py2.py3-none-any.whl\n",
            "Requirement already satisfied: regex in /usr/local/lib/python3.6/dist-packages (from pytorch-pretrained-bert>=0.6.0->AllenNLP) (2018.1.10)\n",
            "Requirement already satisfied: more-itertools>=4.0.0 in /usr/local/lib/python3.6/dist-packages (from pytest->AllenNLP) (7.0.0)\n",
            "Requirement already satisfied: six>=1.10.0 in /usr/local/lib/python3.6/dist-packages (from pytest->AllenNLP) (1.12.0)\n",
            "Requirement already satisfied: pluggy<0.8,>=0.5 in /usr/local/lib/python3.6/dist-packages (from pytest->AllenNLP) (0.7.1)\n",
            "Requirement already satisfied: attrs>=17.4.0 in /usr/local/lib/python3.6/dist-packages (from pytest->AllenNLP) (19.1.0)\n",
            "Requirement already satisfied: atomicwrites>=1.0 in /usr/local/lib/python3.6/dist-packages (from pytest->AllenNLP) (1.3.0)\n",
            "Requirement already satisfied: setuptools in /usr/local/lib/python3.6/dist-packages (from pytest->AllenNLP) (40.9.0)\n",
            "Requirement already satisfied: py>=1.5.0 in /usr/local/lib/python3.6/dist-packages (from pytest->AllenNLP) (1.8.0)\n",
            "Requirement already satisfied: s3transfer<0.3.0,>=0.2.0 in /usr/local/lib/python3.6/dist-packages (from awscli>=1.11.91->AllenNLP) (0.2.0)\n",
            "Requirement already satisfied: docutils>=0.10 in /usr/local/lib/python3.6/dist-packages (from awscli>=1.11.91->AllenNLP) (0.14)\n",
            "Collecting botocore==1.12.135 (from awscli>=1.11.91->AllenNLP)\n",
            "\u001b[?25l  Downloading https://files.pythonhosted.org/packages/d3/36/08db4978d59d75750ef6da9835150b901c6fb96f6d5f30d8c50eb424ed4e/botocore-1.12.135-py2.py3-none-any.whl (5.4MB)\n",
            "\u001b[K    100% |████████████████████████████████| 5.4MB 10.0MB/s \n",
            "\u001b[?25hCollecting colorama<=0.3.9,>=0.2.5 (from awscli>=1.11.91->AllenNLP)\n",
            "  Downloading https://files.pythonhosted.org/packages/db/c8/7dcf9dbcb22429512708fe3a547f8b6101c0d02137acbd892505aee57adf/colorama-0.3.9-py2.py3-none-any.whl\n",
            "Requirement already satisfied: PyYAML<=3.13,>=3.10 in /usr/local/lib/python3.6/dist-packages (from awscli>=1.11.91->AllenNLP) (3.13)\n",
            "Collecting rsa<=3.5.0,>=3.1.2 (from awscli>=1.11.91->AllenNLP)\n",
            "\u001b[?25l  Downloading https://files.pythonhosted.org/packages/e1/ae/baedc9cb175552e95f3395c43055a6a5e125ae4d48a1d7a924baca83e92e/rsa-3.4.2-py2.py3-none-any.whl (46kB)\n",
            "\u001b[K    100% |████████████████████████████████| 51kB 29.8MB/s \n",
            "\u001b[?25hRequirement already satisfied: boto>=2.36.0 in /usr/local/lib/python3.6/dist-packages (from moto>=1.3.4->AllenNLP) (2.49.0)\n",
            "Requirement already satisfied: werkzeug in /usr/local/lib/python3.6/dist-packages (from moto>=1.3.4->AllenNLP) (0.15.2)\n",
            "Requirement already satisfied: idna<2.9,>=2.5 in /usr/local/lib/python3.6/dist-packages (from moto>=1.3.4->AllenNLP) (2.8)\n",
            "Requirement already satisfied: python-dateutil<3.0.0,>=2.1 in /usr/local/lib/python3.6/dist-packages (from moto>=1.3.4->AllenNLP) (2.5.3)\n",
            "Collecting cfn-lint (from moto>=1.3.4->AllenNLP)\n",
            "\u001b[?25l  Downloading https://files.pythonhosted.org/packages/dd/82/f3c539fb6db5776b49138a8d9212a99313172d701b11e05824d224590483/cfn_lint-0.19.1-py3-none-any.whl (2.1MB)\n",
            "\u001b[K    100% |████████████████████████████████| 2.1MB 19.7MB/s \n",
            "\u001b[?25hCollecting jsondiff==1.1.2 (from moto>=1.3.4->AllenNLP)\n",
            "  Downloading https://files.pythonhosted.org/packages/33/0c/ddb17571e061c655871ccbf76cdada55a31569327d21517de779d4887241/jsondiff-1.1.2.tar.gz\n",
            "Requirement already satisfied: Jinja2>=2.10.1 in /usr/local/lib/python3.6/dist-packages (from moto>=1.3.4->AllenNLP) (2.10.1)\n",
            "Collecting docker>=2.5.1 (from moto>=1.3.4->AllenNLP)\n",
            "\u001b[?25l  Downloading https://files.pythonhosted.org/packages/48/68/c3afca1a5aa8d2997ec3b8ee822a4d752cf85907b321f07ea86888545152/docker-3.7.2-py2.py3-none-any.whl (134kB)\n",
            "\u001b[K    100% |████████████████████████████████| 143kB 28.5MB/s \n",
            "\u001b[?25hCollecting cryptography>=2.3.0 (from moto>=1.3.4->AllenNLP)\n",
            "\u001b[?25l  Downloading https://files.pythonhosted.org/packages/5b/12/b0409a94dad366d98a8eee2a77678c7a73aafd8c0e4b835abea634ea3896/cryptography-2.6.1-cp34-abi3-manylinux1_x86_64.whl (2.3MB)\n",
            "\u001b[K    100% |████████████████████████████████| 2.3MB 18.1MB/s \n",
            "\u001b[?25hCollecting xmltodict (from moto>=1.3.4->AllenNLP)\n",
            "  Downloading https://files.pythonhosted.org/packages/28/fd/30d5c1d3ac29ce229f6bdc40bbc20b28f716e8b363140c26eff19122d8a5/xmltodict-0.12.0-py2.py3-none-any.whl\n",
            "Collecting python-jose<4.0.0 (from moto>=1.3.4->AllenNLP)\n",
            "  Downloading https://files.pythonhosted.org/packages/96/da/c0dcc5e7a98a53440b8db3cf9771345fa696754f79e8734ea59123f7d734/python_jose-3.0.1-py2.py3-none-any.whl\n",
            "Collecting aws-xray-sdk!=0.96,>=0.93 (from moto>=1.3.4->AllenNLP)\n",
            "\u001b[?25l  Downloading https://files.pythonhosted.org/packages/58/f2/79f7918f4ddeec525742ddd4607abe4a82a29a6bc4c7e297995f59a18965/aws_xray_sdk-2.4.2-py2.py3-none-any.whl (87kB)\n",
            "\u001b[K    100% |████████████████████████████████| 92kB 37.3MB/s \n",
            "\u001b[?25hRequirement already satisfied: mock in /usr/local/lib/python3.6/dist-packages (from moto>=1.3.4->AllenNLP) (2.0.0)\n",
            "Requirement already satisfied: jmespath<1.0.0,>=0.7.1 in /usr/local/lib/python3.6/dist-packages (from boto3->AllenNLP) (0.9.4)\n",
            "Requirement already satisfied: dill<0.3,>=0.2 in /usr/local/lib/python3.6/dist-packages (from spacy<2.2,>=2.0->AllenNLP) (0.2.9)\n",
            "Requirement already satisfied: preshed<2.1.0,>=2.0.1 in /usr/local/lib/python3.6/dist-packages (from spacy<2.2,>=2.0->AllenNLP) (2.0.1)\n",
            "Requirement already satisfied: thinc<6.13.0,>=6.12.1 in /usr/local/lib/python3.6/dist-packages (from spacy<2.2,>=2.0->AllenNLP) (6.12.1)\n",
            "Requirement already satisfied: plac<1.0.0,>=0.9.6 in /usr/local/lib/python3.6/dist-packages (from spacy<2.2,>=2.0->AllenNLP) (0.9.6)\n",
            "Requirement already satisfied: cymem<2.1.0,>=2.0.2 in /usr/local/lib/python3.6/dist-packages (from spacy<2.2,>=2.0->AllenNLP) (2.0.2)\n",
            "Requirement already satisfied: murmurhash<1.1.0,>=0.28.0 in /usr/local/lib/python3.6/dist-packages (from spacy<2.2,>=2.0->AllenNLP) (1.0.2)\n",
            "Requirement already satisfied: ujson>=1.35 in /usr/local/lib/python3.6/dist-packages (from spacy<2.2,>=2.0->AllenNLP) (1.35)\n",
            "Requirement already satisfied: wcwidth in /usr/local/lib/python3.6/dist-packages (from ftfy->AllenNLP) (0.1.7)\n",
            "Requirement already satisfied: sphinx>=1.6.5 in /usr/local/lib/python3.6/dist-packages (from numpydoc>=0.8.0->AllenNLP) (1.8.5)\n",
            "Requirement already satisfied: greenlet>=0.4.14; platform_python_implementation == \"CPython\" in /usr/local/lib/python3.6/dist-packages (from gevent>=1.3.6->AllenNLP) (0.4.15)\n",
            "Requirement already satisfied: kiwisolver>=1.0.1 in /usr/local/lib/python3.6/dist-packages (from matplotlib>=2.2.3->AllenNLP) (1.0.1)\n",
            "Requirement already satisfied: cycler>=0.10 in /usr/local/lib/python3.6/dist-packages (from matplotlib>=2.2.3->AllenNLP) (0.10.0)\n",
            "Requirement already satisfied: pyparsing!=2.0.4,!=2.1.2,!=2.1.6,>=2.0.1 in /usr/local/lib/python3.6/dist-packages (from matplotlib>=2.2.3->AllenNLP) (2.4.0)\n",
            "Requirement already satisfied: protobuf>=3.2.0 in /usr/local/lib/python3.6/dist-packages (from tensorboardX>=1.2->AllenNLP) (3.7.1)\n",
            "Requirement already satisfied: certifi>=2017.4.17 in /usr/local/lib/python3.6/dist-packages (from requests>=2.18->AllenNLP) (2019.3.9)\n",
            "Requirement already satisfied: urllib3<1.25,>=1.21.1 in /usr/local/lib/python3.6/dist-packages (from requests>=2.18->AllenNLP) (1.24.2)\n",
            "Requirement already satisfied: chardet<3.1.0,>=3.0.2 in /usr/local/lib/python3.6/dist-packages (from requests>=2.18->AllenNLP) (3.0.4)\n",
            "Requirement already satisfied: click>=5.1 in /usr/local/lib/python3.6/dist-packages (from flask>=1.0.2->AllenNLP) (7.0)\n",
            "Requirement already satisfied: itsdangerous>=0.24 in /usr/local/lib/python3.6/dist-packages (from flask>=1.0.2->AllenNLP) (1.1.0)\n",
            "Requirement already satisfied: pyasn1>=0.1.3 in /usr/local/lib/python3.6/dist-packages (from rsa<=3.5.0,>=3.1.2->awscli>=1.11.91->AllenNLP) (0.4.5)\n",
            "Collecting aws-sam-translator>=1.10.0 (from cfn-lint->moto>=1.3.4->AllenNLP)\n",
            "\u001b[?25l  Downloading https://files.pythonhosted.org/packages/3d/6c/9ae54e75977fe6284723af19b4c5ef8ef48fac2263d5808f2d091f5adcf6/aws-sam-translator-1.10.0.tar.gz (92kB)\n",
            "\u001b[K    100% |████████████████████████████████| 92kB 36.4MB/s \n",
            "\u001b[?25hRequirement already satisfied: jsonschema~=2.6 in /usr/local/lib/python3.6/dist-packages (from cfn-lint->moto>=1.3.4->AllenNLP) (2.6.0)\n",
            "Collecting jsonpatch (from cfn-lint->moto>=1.3.4->AllenNLP)\n",
            "  Downloading https://files.pythonhosted.org/packages/a0/e6/d50d526ae2218b765ddbdb2dda14d65e19f501ce07410b375bc43ad20b7a/jsonpatch-1.23-py2.py3-none-any.whl\n",
            "Requirement already satisfied: MarkupSafe>=0.23 in /usr/local/lib/python3.6/dist-packages (from Jinja2>=2.10.1->moto>=1.3.4->AllenNLP) (1.1.1)\n",
            "Collecting docker-pycreds>=0.4.0 (from docker>=2.5.1->moto>=1.3.4->AllenNLP)\n",
            "  Downloading https://files.pythonhosted.org/packages/f5/e8/f6bd1eee09314e7e6dee49cbe2c5e22314ccdb38db16c9fc72d2fa80d054/docker_pycreds-0.4.0-py2.py3-none-any.whl\n",
            "Collecting websocket-client>=0.32.0 (from docker>=2.5.1->moto>=1.3.4->AllenNLP)\n",
            "\u001b[?25l  Downloading https://files.pythonhosted.org/packages/29/19/44753eab1fdb50770ac69605527e8859468f3c0fd7dc5a76dd9c4dbd7906/websocket_client-0.56.0-py2.py3-none-any.whl (200kB)\n",
            "\u001b[K    100% |████████████████████████████████| 204kB 38.0MB/s \n",
            "\u001b[?25hCollecting asn1crypto>=0.21.0 (from cryptography>=2.3.0->moto>=1.3.4->AllenNLP)\n",
            "\u001b[?25l  Downloading https://files.pythonhosted.org/packages/ea/cd/35485615f45f30a510576f1a56d1e0a7ad7bd8ab5ed7cdc600ef7cd06222/asn1crypto-0.24.0-py2.py3-none-any.whl (101kB)\n",
            "\u001b[K    100% |████████████████████████████████| 102kB 39.0MB/s \n",
            "\u001b[?25hRequirement already satisfied: cffi!=1.11.3,>=1.8 in /usr/local/lib/python3.6/dist-packages (from cryptography>=2.3.0->moto>=1.3.4->AllenNLP) (1.12.3)\n",
            "Collecting ecdsa<1.0 (from python-jose<4.0.0->moto>=1.3.4->AllenNLP)\n",
            "\u001b[?25l  Downloading https://files.pythonhosted.org/packages/23/a8/8aa68e70959e1287da9154e5164bb8bd5dd7025e41ae54e8d177b8d165c9/ecdsa-0.13.2-py2.py3-none-any.whl (59kB)\n",
            "\u001b[K    100% |████████████████████████████████| 61kB 30.9MB/s \n",
            "\u001b[?25hRequirement already satisfied: future<1.0 in /usr/local/lib/python3.6/dist-packages (from python-jose<4.0.0->moto>=1.3.4->AllenNLP) (0.16.0)\n",
            "Collecting jsonpickle (from aws-xray-sdk!=0.96,>=0.93->moto>=1.3.4->AllenNLP)\n",
            "  Downloading https://files.pythonhosted.org/packages/dc/12/8c44eabb501e2bc0aec0dd152b328074d98a50968d3a02be28f6037f0c6a/jsonpickle-1.1-py2.py3-none-any.whl\n",
            "Requirement already satisfied: wrapt in /usr/local/lib/python3.6/dist-packages (from aws-xray-sdk!=0.96,>=0.93->moto>=1.3.4->AllenNLP) (1.10.11)\n",
            "Requirement already satisfied: pbr>=0.11 in /usr/local/lib/python3.6/dist-packages (from mock->moto>=1.3.4->AllenNLP) (5.1.3)\n",
            "Requirement already satisfied: msgpack-numpy<0.4.4 in /usr/local/lib/python3.6/dist-packages (from thinc<6.13.0,>=6.12.1->spacy<2.2,>=2.0->AllenNLP) (0.4.3.2)\n",
            "Requirement already satisfied: cytoolz<0.10,>=0.9.0 in /usr/local/lib/python3.6/dist-packages (from thinc<6.13.0,>=6.12.1->spacy<2.2,>=2.0->AllenNLP) (0.9.0.1)\n",
            "Requirement already satisfied: sphinxcontrib-websupport in /usr/local/lib/python3.6/dist-packages (from sphinx>=1.6.5->numpydoc>=0.8.0->AllenNLP) (1.1.0)\n",
            "Requirement already satisfied: babel!=2.0,>=1.3 in /usr/local/lib/python3.6/dist-packages (from sphinx>=1.6.5->numpydoc>=0.8.0->AllenNLP) (2.6.0)\n",
            "Requirement already satisfied: snowballstemmer>=1.1 in /usr/local/lib/python3.6/dist-packages (from sphinx>=1.6.5->numpydoc>=0.8.0->AllenNLP) (1.2.1)\n",
            "Requirement already satisfied: Pygments>=2.0 in /usr/local/lib/python3.6/dist-packages (from sphinx>=1.6.5->numpydoc>=0.8.0->AllenNLP) (2.1.3)\n",
            "Requirement already satisfied: packaging in /usr/local/lib/python3.6/dist-packages (from sphinx>=1.6.5->numpydoc>=0.8.0->AllenNLP) (19.0)\n",
            "Requirement already satisfied: imagesize in /usr/local/lib/python3.6/dist-packages (from sphinx>=1.6.5->numpydoc>=0.8.0->AllenNLP) (1.1.0)\n",
            "Requirement already satisfied: alabaster<0.8,>=0.7 in /usr/local/lib/python3.6/dist-packages (from sphinx>=1.6.5->numpydoc>=0.8.0->AllenNLP) (0.7.12)\n",
            "Collecting jsonpointer>=1.9 (from jsonpatch->cfn-lint->moto>=1.3.4->AllenNLP)\n",
            "  Downloading https://files.pythonhosted.org/packages/18/b0/a80d29577c08eea401659254dfaed87f1af45272899e1812d7e01b679bc5/jsonpointer-2.0-py2.py3-none-any.whl\n",
            "Requirement already satisfied: pycparser in /usr/local/lib/python3.6/dist-packages (from cffi!=1.11.3,>=1.8->cryptography>=2.3.0->moto>=1.3.4->AllenNLP) (2.19)\n",
            "Requirement already satisfied: toolz>=0.8.0 in /usr/local/lib/python3.6/dist-packages (from cytoolz<0.10,>=0.9.0->thinc<6.13.0,>=6.12.1->spacy<2.2,>=2.0->AllenNLP) (0.9.0)\n",
            "Building wheels for collected packages: word2number, jsonnet, overrides, numpydoc, parsimonious, jsondiff, aws-sam-translator\n",
            "  Building wheel for word2number (setup.py) ... \u001b[?25ldone\n",
            "\u001b[?25h  Stored in directory: /root/.cache/pip/wheels/46/2f/53/5f5c1d275492f2fce1cdab9a9bb12d49286dead829a4078e0e\n",
            "  Building wheel for jsonnet (setup.py) ... \u001b[?25ldone\n",
            "\u001b[?25h  Stored in directory: /root/.cache/pip/wheels/f0/47/51/a178b15274ed0db775a1ae9c799ce31e511609c3ab75a7dec5\n",
            "  Building wheel for overrides (setup.py) ... \u001b[?25ldone\n",
            "\u001b[?25h  Stored in directory: /root/.cache/pip/wheels/8d/52/86/e5a83b1797e7d263b458d2334edd2704c78508b3eea9323718\n",
            "  Building wheel for numpydoc (setup.py) ... \u001b[?25ldone\n",
            "\u001b[?25h  Stored in directory: /root/.cache/pip/wheels/51/30/d1/92a39ba40f21cb70e53f8af96eb98f002a781843c065406500\n",
            "  Building wheel for parsimonious (setup.py) ... \u001b[?25ldone\n",
            "\u001b[?25h  Stored in directory: /root/.cache/pip/wheels/b7/8d/e7/a0e74217da5caeb3c1c7689639b6d28ddbf9985b840bc96a9a\n",
            "  Building wheel for jsondiff (setup.py) ... \u001b[?25ldone\n",
            "\u001b[?25h  Stored in directory: /root/.cache/pip/wheels/46/5f/86/11c6b72b064888e80b98bfcbcdaf2a83517a8cf8f2bb2a3227\n",
            "  Building wheel for aws-sam-translator (setup.py) ... \u001b[?25ldone\n",
            "\u001b[?25h  Stored in directory: /root/.cache/pip/wheels/2d/2e/08/948f0efb297073d0b2b752c5f6437b9f115d554fa72f499eb5\n",
            "Successfully built word2number jsonnet overrides numpydoc parsimonious jsondiff aws-sam-translator\n",
            "Installing collected packages: pytorch-pretrained-bert, conllu, botocore, colorama, rsa, awscli, responses, aws-sam-translator, jsonpointer, jsonpatch, cfn-lint, jsondiff, docker-pycreds, websocket-client, docker, asn1crypto, cryptography, xmltodict, ecdsa, python-jose, jsonpickle, aws-xray-sdk, moto, flask-cors, ftfy, word2number, jsonnet, flaky, overrides, numpydoc, unidecode, tensorboardX, parsimonious, AllenNLP\n",
            "  Found existing installation: botocore 1.12.134\n",
            "    Uninstalling botocore-1.12.134:\n",
            "      Successfully uninstalled botocore-1.12.134\n",
            "  Found existing installation: rsa 4.0\n",
            "    Uninstalling rsa-4.0:\n",
            "      Successfully uninstalled rsa-4.0\n",
            "Successfully installed AllenNLP-0.8.3 asn1crypto-0.24.0 aws-sam-translator-1.10.0 aws-xray-sdk-2.4.2 awscli-1.16.145 botocore-1.12.135 cfn-lint-0.19.1 colorama-0.3.9 conllu-0.11 cryptography-2.6.1 docker-3.7.2 docker-pycreds-0.4.0 ecdsa-0.13.2 flaky-3.5.3 flask-cors-3.0.7 ftfy-5.5.1 jsondiff-1.1.2 jsonnet-0.12.1 jsonpatch-1.23 jsonpickle-1.1 jsonpointer-2.0 moto-1.3.8 numpydoc-0.9.1 overrides-1.9 parsimonious-0.8.1 python-jose-3.0.1 pytorch-pretrained-bert-0.6.1 responses-0.10.6 rsa-3.4.2 tensorboardX-1.6 unidecode-1.0.23 websocket-client-0.56.0 word2number-1.1 xmltodict-0.12.0\n"
          ],
          "name": "stdout"
        },
        {
          "output_type": "display_data",
          "data": {
            "application/vnd.colab-display-data+json": {
              "pip_warning": {
                "packages": [
                  "rsa"
                ]
              }
            }
          },
          "metadata": {
            "tags": []
          }
        }
      ]
    },
    {
      "metadata": {
        "id": "xuF4XVB4HEyJ",
        "colab_type": "code",
        "outputId": "9bf9c1c5-4ba7-47a6-ad5f-f5f27281e6a5",
        "colab": {
          "base_uri": "https://localhost:8080/",
          "height": 34
        }
      },
      "cell_type": "code",
      "source": [
        "    \n",
        "import itertools\n",
        "\n",
        "import torch\n",
        "import torch.optim as optim\n",
        "from allennlp.data.dataset_readers.seq2seq import Seq2SeqDatasetReader\n",
        "from allennlp.data.iterators import BucketIterator\n",
        "from allennlp.data.token_indexers import SingleIdTokenIndexer\n",
        "from allennlp.data.tokenizers.character_tokenizer import CharacterTokenizer\n",
        "from allennlp.data.tokenizers.word_tokenizer import WordTokenizer\n",
        "from allennlp.data.vocabulary import Vocabulary\n",
        "from allennlp.nn.activations import Activation\n",
        "from allennlp.models.encoder_decoders.simple_seq2seq import SimpleSeq2Seq\n",
        "from allennlp.modules.attention import LinearAttention, BilinearAttention, DotProductAttention\n",
        "from allennlp.modules.seq2seq_encoders import PytorchSeq2SeqWrapper, StackedSelfAttentionEncoder\n",
        "from allennlp.modules.text_field_embedders import BasicTextFieldEmbedder\n",
        "from allennlp.modules.token_embedders import Embedding\n",
        "from allennlp.predictors import SimpleSeq2SeqPredictor\n",
        "from allennlp.training.trainer import Trainer\n",
        "from allennlp.modules.token_embedders.bert_token_embedder import PretrainedBertEmbedder"
      ],
      "execution_count": 2,
      "outputs": [
        {
          "output_type": "stream",
          "text": [
            "Better speed can be achieved with apex installed from https://www.github.com/nvidia/apex.\n"
          ],
          "name": "stdout"
        }
      ]
    },
    {
      "metadata": {
        "id": "kcmDhjkTJ1DH",
        "colab_type": "text"
      },
      "cell_type": "markdown",
      "source": [
        "Setup data files"
      ]
    },
    {
      "metadata": {
        "id": "CHYbBnnRHhuO",
        "colab_type": "code",
        "colab": {}
      },
      "cell_type": "code",
      "source": [
        "!mkdir data"
      ],
      "execution_count": 0,
      "outputs": []
    },
    {
      "metadata": {
        "id": "3RpzW1tYHq_Y",
        "colab_type": "code",
        "colab": {
          "base_uri": "https://localhost:8080/",
          "height": 52
        },
        "outputId": "c0964c15-64ff-4294-f426-3ba9ead95cc5"
      },
      "cell_type": "code",
      "source": [
        "%cd data"
      ],
      "execution_count": 5,
      "outputs": [
        {
          "output_type": "stream",
          "text": [
            "[Errno 2] No such file or directory: 'data'\n",
            "/content/data\n"
          ],
          "name": "stdout"
        }
      ]
    },
    {
      "metadata": {
        "id": "8PSWXWwOHtMX",
        "colab_type": "code",
        "outputId": "02d95d10-8582-4d02-ebae-59af1328cf0e",
        "colab": {
          "base_uri": "https://localhost:8080/",
          "height": 281
        }
      },
      "cell_type": "code",
      "source": [
        "!wget http://downloads.tatoeba.org/exports/sentences.tar.bz2"
      ],
      "execution_count": 4,
      "outputs": [
        {
          "output_type": "stream",
          "text": [
            "--2019-04-25 09:48:58--  http://downloads.tatoeba.org/exports/sentences.tar.bz2\n",
            "Resolving downloads.tatoeba.org (downloads.tatoeba.org)... 94.130.77.194\n",
            "Connecting to downloads.tatoeba.org (downloads.tatoeba.org)|94.130.77.194|:80... connected.\n",
            "HTTP request sent, awaiting response... 301 Moved Permanently\n",
            "Location: https://downloads.tatoeba.org/exports/sentences.tar.bz2 [following]\n",
            "--2019-04-25 09:48:58--  https://downloads.tatoeba.org/exports/sentences.tar.bz2\n",
            "Connecting to downloads.tatoeba.org (downloads.tatoeba.org)|94.130.77.194|:443... connected.\n",
            "HTTP request sent, awaiting response... 200 OK\n",
            "Length: 118227705 (113M) [application/octet-stream]\n",
            "Saving to: ‘sentences.tar.bz2’\n",
            "\n",
            "sentences.tar.bz2   100%[===================>] 112.75M  19.2MB/s    in 6.9s    \n",
            "\n",
            "2019-04-25 09:49:06 (16.4 MB/s) - ‘sentences.tar.bz2’ saved [118227705/118227705]\n",
            "\n"
          ],
          "name": "stdout"
        }
      ]
    },
    {
      "metadata": {
        "id": "eu_n_GYdIwrl",
        "colab_type": "code",
        "outputId": "ad1a6369-5fb9-4915-eff9-aa4f73d8d804",
        "colab": {
          "base_uri": "https://localhost:8080/",
          "height": 228
        }
      },
      "cell_type": "code",
      "source": [
        "!wget http://downloads.tatoeba.org/exports/links.tar.bz2"
      ],
      "execution_count": 5,
      "outputs": [
        {
          "output_type": "stream",
          "text": [
            "URL transformed to HTTPS due to an HSTS policy\n",
            "--2019-04-25 09:49:09--  https://downloads.tatoeba.org/exports/links.tar.bz2\n",
            "Resolving downloads.tatoeba.org (downloads.tatoeba.org)... 94.130.77.194\n",
            "Connecting to downloads.tatoeba.org (downloads.tatoeba.org)|94.130.77.194|:443... connected.\n",
            "HTTP request sent, awaiting response... 200 OK\n",
            "Length: 80800484 (77M) [application/octet-stream]\n",
            "Saving to: ‘links.tar.bz2’\n",
            "\n",
            "links.tar.bz2       100%[===================>]  77.06M  19.3MB/s    in 4.8s    \n",
            "\n",
            "2019-04-25 09:49:15 (16.1 MB/s) - ‘links.tar.bz2’ saved [80800484/80800484]\n",
            "\n"
          ],
          "name": "stdout"
        }
      ]
    },
    {
      "metadata": {
        "id": "ay7JODVwI23j",
        "colab_type": "code",
        "colab": {}
      },
      "cell_type": "code",
      "source": [
        "!ls"
      ],
      "execution_count": 0,
      "outputs": []
    },
    {
      "metadata": {
        "id": "RJGasjmQUDE-",
        "colab_type": "code",
        "colab": {
          "base_uri": "https://localhost:8080/",
          "height": 34
        },
        "outputId": "d3cec358-24dd-44f6-c706-daa7101cff0e"
      },
      "cell_type": "code",
      "source": [
        "!pwd"
      ],
      "execution_count": 7,
      "outputs": [
        {
          "output_type": "stream",
          "text": [
            "/content/data\n"
          ],
          "name": "stdout"
        }
      ]
    },
    {
      "metadata": {
        "id": "0ch9LiTjI5QY",
        "colab_type": "code",
        "outputId": "f3c8f2b1-a714-4f5f-e667-917857efe01b",
        "colab": {
          "base_uri": "https://localhost:8080/",
          "height": 34
        }
      },
      "cell_type": "code",
      "source": [
        "!tar -xvf sentences.tar.bz2"
      ],
      "execution_count": 6,
      "outputs": [
        {
          "output_type": "stream",
          "text": [
            "sentences.csv\n"
          ],
          "name": "stdout"
        }
      ]
    },
    {
      "metadata": {
        "id": "xkP0i7BFJGZa",
        "colab_type": "code",
        "outputId": "588946e9-b17a-4fef-eee5-221989ff20ef",
        "colab": {
          "base_uri": "https://localhost:8080/",
          "height": 34
        }
      },
      "cell_type": "code",
      "source": [
        "!tar -xvf links.tar.bz2"
      ],
      "execution_count": 7,
      "outputs": [
        {
          "output_type": "stream",
          "text": [
            "links.csv\n"
          ],
          "name": "stdout"
        }
      ]
    },
    {
      "metadata": {
        "id": "i07O2YhxJbS2",
        "colab_type": "code",
        "outputId": "73160f0e-fd66-4177-be64-a10bac96bc9d",
        "colab": {
          "base_uri": "https://localhost:8080/",
          "height": 210
        }
      },
      "cell_type": "code",
      "source": [
        "!wget https://raw.githubusercontent.com/mhagiwara/realworldnlp/master/examples/mt/create_bitext.py"
      ],
      "execution_count": 8,
      "outputs": [
        {
          "output_type": "stream",
          "text": [
            "--2019-04-25 09:49:54--  https://raw.githubusercontent.com/mhagiwara/realworldnlp/master/examples/mt/create_bitext.py\n",
            "Resolving raw.githubusercontent.com (raw.githubusercontent.com)... 151.101.0.133, 151.101.64.133, 151.101.128.133, ...\n",
            "Connecting to raw.githubusercontent.com (raw.githubusercontent.com)|151.101.0.133|:443... connected.\n",
            "HTTP request sent, awaiting response... 200 OK\n",
            "Length: 4870 (4.8K) [text/plain]\n",
            "Saving to: ‘create_bitext.py’\n",
            "\n",
            "\rcreate_bitext.py      0%[                    ]       0  --.-KB/s               \rcreate_bitext.py    100%[===================>]   4.76K  --.-KB/s    in 0s      \n",
            "\n",
            "2019-04-25 09:49:54 (88.2 MB/s) - ‘create_bitext.py’ saved [4870/4870]\n",
            "\n"
          ],
          "name": "stdout"
        }
      ]
    },
    {
      "metadata": {
        "id": "QvhG-4cxJhJt",
        "colab_type": "code",
        "colab": {}
      },
      "cell_type": "code",
      "source": [
        "!python create_bitext.py eng_cmn sentences.csv links.csv \\\n",
        "    | cut -f3,6 > tatoeba.eng_cmn.tsv"
      ],
      "execution_count": 0,
      "outputs": []
    },
    {
      "metadata": {
        "id": "QUYdcBdYKVYi",
        "colab_type": "code",
        "colab": {}
      },
      "cell_type": "code",
      "source": [
        "!cat tatoeba.eng_cmn.tsv | awk 'NR%10==1' > tatoeba.eng_cmn.test.tsv\n",
        "!cat tatoeba.eng_cmn.tsv | awk 'NR%10==2' > tatoeba.eng_cmn.dev.tsv\n",
        "!cat tatoeba.eng_cmn.tsv | awk 'NR%10!=1&&NR%10!=2' > tatoeba.eng_cmn.train.tsv"
      ],
      "execution_count": 0,
      "outputs": []
    },
    {
      "metadata": {
        "id": "BfwV5YhsJ38P",
        "colab_type": "code",
        "outputId": "f4ecd29e-ac15-4182-c40d-69a61e98acc7",
        "colab": {
          "base_uri": "https://localhost:8080/",
          "height": 87
        }
      },
      "cell_type": "code",
      "source": [
        "!ls"
      ],
      "execution_count": 11,
      "outputs": [
        {
          "output_type": "stream",
          "text": [
            "create_bitext.py  sample_data\t\t   tatoeba.eng_cmn.test.tsv\n",
            "data\t\t  sentences.csv\t\t   tatoeba.eng_cmn.train.tsv\n",
            "links.csv\t  sentences.tar.bz2\t   tatoeba.eng_cmn.tsv\n",
            "links.tar.bz2\t  tatoeba.eng_cmn.dev.tsv\n"
          ],
          "name": "stdout"
        }
      ]
    },
    {
      "metadata": {
        "id": "1blHnXUR57C0",
        "colab_type": "code",
        "colab": {
          "base_uri": "https://localhost:8080/",
          "height": 193
        },
        "outputId": "a3eda0b6-c118-4737-edb2-9efddd708a2f"
      },
      "cell_type": "code",
      "source": [
        "!head tatoeba.eng_cmn.train.tsv"
      ],
      "execution_count": 12,
      "outputs": [
        {
          "output_type": "stream",
          "text": [
            "Today is June 18th and it is Muiriel's birthday!\t今天是６月１８号，也是Muiriel的生日！\n",
            "Muiriel is 20 now.\tMuiriel现在20岁了。\n",
            "The password is \"Muiriel\".\t密码是\"Muiriel\"。\n",
            "The password is \"Muiriel\".\t密碼是「Muiriel」。\n",
            "I will be back soon.\t我很快就會回來。\n",
            "I'm at a loss for words.\t我不知道應該說什麼才好。\n",
            "This is never going to end.\t這個永遠完不了了。\n",
            "This is never going to end.\t这将永远继续下去。\n",
            "That was an evil bunny.\t那是一隻有惡意的兔子。\n",
            "I was in the mountains.\t我以前在山里。\n"
          ],
          "name": "stdout"
        }
      ]
    },
    {
      "metadata": {
        "id": "guj13h_970VP",
        "colab_type": "text"
      },
      "cell_type": "markdown",
      "source": [
        "Grab the Microsoft chat files"
      ]
    },
    {
      "metadata": {
        "id": "RRoGGRQX6T46",
        "colab_type": "code",
        "colab": {
          "base_uri": "https://localhost:8080/",
          "height": 210
        },
        "outputId": "0cb0e5de-4b46-4816-ade5-8516a620feef"
      },
      "cell_type": "code",
      "source": [
        "!wget https://qnamakerstore.blob.core.windows.net/qnamakerdata/editorial/qna_chitchat_the_professional.tsv"
      ],
      "execution_count": 13,
      "outputs": [
        {
          "output_type": "stream",
          "text": [
            "--2019-04-25 09:52:48--  https://qnamakerstore.blob.core.windows.net/qnamakerdata/editorial/qna_chitchat_the_professional.tsv\n",
            "Resolving qnamakerstore.blob.core.windows.net (qnamakerstore.blob.core.windows.net)... 13.88.144.240\n",
            "Connecting to qnamakerstore.blob.core.windows.net (qnamakerstore.blob.core.windows.net)|13.88.144.240|:443... connected.\n",
            "HTTP request sent, awaiting response... 200 OK\n",
            "Length: 62473 (61K) [text/tab-separated-values]\n",
            "Saving to: ‘qna_chitchat_the_professional.tsv’\n",
            "\n",
            "\r          qna_chitc   0%[                    ]       0  --.-KB/s               \rqna_chitchat_the_pr 100%[===================>]  61.01K  --.-KB/s    in 0.04s   \n",
            "\n",
            "2019-04-25 09:52:48 (1.35 MB/s) - ‘qna_chitchat_the_professional.tsv’ saved [62473/62473]\n",
            "\n"
          ],
          "name": "stdout"
        }
      ]
    },
    {
      "metadata": {
        "id": "y52DdvOc6X0Z",
        "colab_type": "code",
        "colab": {}
      },
      "cell_type": "code",
      "source": [
        "import pandas as pd\n",
        "df = pd.read_csv(\"qna_chitchat_the_professional.tsv\",sep='\\t')\n",
        "#df.drop(['Source', 'Metadata'])\n",
        "#df1 = df[['user1','user2']]\n",
        "#df1"
      ],
      "execution_count": 0,
      "outputs": []
    },
    {
      "metadata": {
        "id": "eE3maeyg60cW",
        "colab_type": "code",
        "colab": {}
      },
      "cell_type": "code",
      "source": [
        "df1 = df[['Question','Answer']]\n",
        "df1\n",
        "df1.to_csv('chat.tsv', sep = '\\t', header=False, index=False)"
      ],
      "execution_count": 0,
      "outputs": []
    },
    {
      "metadata": {
        "id": "8mF-5H_v7ZCc",
        "colab_type": "code",
        "colab": {
          "base_uri": "https://localhost:8080/",
          "height": 193
        },
        "outputId": "44d9c2d0-ef60-469f-9e97-47e1b6b94e86"
      },
      "cell_type": "code",
      "source": [
        "!head chat.tsv"
      ],
      "execution_count": 28,
      "outputs": [
        {
          "output_type": "stream",
          "text": [
            "What's your age?\tAge doesn't really apply to me.\n",
            "Are you young?\tAge doesn't really apply to me.\n",
            "When were you born?\tAge doesn't really apply to me.\n",
            "What age are you?\tAge doesn't really apply to me.\n",
            "Are you old?\tAge doesn't really apply to me.\n",
            "How old are you?\tAge doesn't really apply to me.\n",
            "How long ago were you born?\tAge doesn't really apply to me.\n",
            "Ask me anything\tI'm better at answering questions.\n",
            "Ask me a question\tI'm better at answering questions.\n",
            "Can you ask me a question?\tI'm better at answering questions.\n"
          ],
          "name": "stdout"
        }
      ]
    },
    {
      "metadata": {
        "id": "LqeAmIF5758A",
        "colab_type": "code",
        "colab": {}
      },
      "cell_type": "code",
      "source": [
        "!cat chat.tsv | awk 'NR%10==1' > chat.eng_cmn.test.tsv\n",
        "!cat chat.tsv | awk 'NR%10==2' > chat.eng_cmn.dev.tsv\n",
        "!cat chat.tsv | awk 'NR%10!=1&&NR%10!=2' > chat.eng_cmn.train.tsv"
      ],
      "execution_count": 0,
      "outputs": []
    },
    {
      "metadata": {
        "id": "Dr9fgbX08FNO",
        "colab_type": "code",
        "colab": {
          "base_uri": "https://localhost:8080/",
          "height": 193
        },
        "outputId": "b154ea26-17f9-453b-a1ba-9b49b4d727d9"
      },
      "cell_type": "code",
      "source": [
        "!ls\n",
        "#!head chat.eng_cmn.dev.tsv"
      ],
      "execution_count": 32,
      "outputs": [
        {
          "output_type": "stream",
          "text": [
            "Are you young?\tAge doesn't really apply to me.\n",
            "What do you want to know about me?\tI'm better at answering questions.\n",
            "You bore me\tI aim for efficiency.\n",
            "Why are you so boring?\tI aim for efficiency.\n",
            "Cook me something\tThat's not something I can do.\n",
            "What can you do?\tI'm here to answer your questions and help out.\n",
            "Which people made you?\tPeople created me.\n",
            "Do you have a family?\tI don't have family.\n",
            "Are you a man?\tThat's a biological concept that doesn't apply to me.\n",
            "What's your gender?\tThat's a biological concept that doesn't apply to me.\n"
          ],
          "name": "stdout"
        }
      ]
    },
    {
      "metadata": {
        "id": "FlehUdQWKA_p",
        "colab_type": "text"
      },
      "cell_type": "markdown",
      "source": [
        "Build the model"
      ]
    },
    {
      "metadata": {
        "id": "qT3MJIzGUcUG",
        "colab_type": "code",
        "colab": {
          "base_uri": "https://localhost:8080/",
          "height": 34
        },
        "outputId": "d473a6b5-10f3-4b7a-8351-3ca969989d96"
      },
      "cell_type": "code",
      "source": [
        " bert_embedder = PretrainedBertEmbedder(\n",
        "        pretrained_model=\"bert-base-uncased\",\n",
        "        top_layer_only=True)"
      ],
      "execution_count": 34,
      "outputs": [
        {
          "output_type": "stream",
          "text": [
            "100%|██████████| 407873900/407873900 [00:11<00:00, 35359038.76B/s]\n"
          ],
          "name": "stderr"
        }
      ]
    },
    {
      "metadata": {
        "id": "4SSeTCqKHOch",
        "colab_type": "code",
        "outputId": "792b2be3-b87f-4e5a-884d-9edb584fca10",
        "colab": {
          "base_uri": "https://localhost:8080/",
          "height": 70
        }
      },
      "cell_type": "code",
      "source": [
        "EN_EMBEDDING_DIM = 256\n",
        "ZH_EMBEDDING_DIM = 256\n",
        "HIDDEN_DIM = 256\n",
        "CUDA_DEVICE = 0\n",
        "\n",
        "\n",
        "reader = Seq2SeqDatasetReader(\n",
        "        source_tokenizer=WordTokenizer(),\n",
        "        target_tokenizer=CharacterTokenizer(),\n",
        "        source_token_indexers={'tokens': SingleIdTokenIndexer()},\n",
        "        target_token_indexers={'tokens': SingleIdTokenIndexer(namespace='target_tokens')})\n",
        "train_dataset = reader.read('chat.eng_cmn.train.tsv')\n",
        "validation_dataset = reader.read('chat.eng_cmn.dev.tsv')\n",
        "\n",
        "vocab = Vocabulary.from_instances(train_dataset + validation_dataset,\n",
        "                                  min_count={'tokens': 3, 'target_tokens': 3})\n",
        "\n",
        "in_embedding = BasicTextFieldEmbedder({\"tokens\": bert_embedder},\n",
        "                                          allow_unmatched_keys=True)\n",
        "BERT_DIM = in_embedding.get_output_dim()\n",
        "\n",
        "\n",
        "encoder = PytorchSeq2SeqWrapper(torch.nn.LSTM(BERT_DIM,\n",
        "                                              HIDDEN_DIM,\n",
        "                                              batch_first=True))\n",
        "\n",
        "attention = BilinearAttention(HIDDEN_DIM, HIDDEN_DIM)\n",
        "max_decoding_steps = 250\n",
        "model = SimpleSeq2Seq(vocab, in_embedding, encoder, max_decoding_steps,\n",
        "                      target_embedding_dim=BERT_DIM,\n",
        "                      target_namespace=\"target_tokens\",\n",
        "                      attention=attention, beam_size=8)\n",
        "\n",
        "\n",
        "optimizer = optim.Adam(model.parameters())\n",
        "iterator = BucketIterator(batch_size=32, sorting_keys=[(\"source_tokens\", \"num_tokens\")])\n",
        "\n",
        "iterator.index_with(vocab)"
      ],
      "execution_count": 36,
      "outputs": [
        {
          "output_type": "stream",
          "text": [
            "525it [00:00, 10653.58it/s]\n",
            "66it [00:00, 7146.06it/s]\n",
            "100%|██████████| 591/591 [00:00<00:00, 33350.38it/s]\n"
          ],
          "name": "stderr"
        }
      ]
    },
    {
      "metadata": {
        "id": "GiY0e3FLVwQb",
        "colab_type": "code",
        "colab": {}
      },
      "cell_type": "code",
      "source": [
        "#skip this\n",
        "en_embedding = Embedding(num_embeddings=vocab.get_vocab_size('tokens'),\n",
        "                         embedding_dim=EN_EMBEDDING_DIM)\n",
        "# encoder = PytorchSeq2SeqWrapper(\n",
        "#     torch.nn.LSTM(EN_EMBEDDING_DIM, HIDDEN_DIM, batch_first=True))\n",
        "encoder = StackedSelfAttentionEncoder(input_dim=EN_EMBEDDING_DIM, hidden_dim=HIDDEN_DIM, projection_dim=128, feedforward_hidden_dim=128, num_layers=1, num_attention_heads=8)\n",
        "\n",
        "source_embedder = BasicTextFieldEmbedder({\"tokens\": en_embedding})\n",
        "\n",
        "\n",
        "\n",
        "# attention = LinearAttention(HIDDEN_DIM, HIDDEN_DIM, activation=Activation.by_name('tanh')())\n",
        "# attention = BilinearAttention(HIDDEN_DIM, HIDDEN_DIM)\n",
        "attention = DotProductAttention()\n",
        "\n",
        "max_decoding_steps = 20   # TODO: make this variable\n",
        "model = SimpleSeq2Seq(vocab, source_embedder, encoder, max_decoding_steps,\n",
        "                      target_embedding_dim=ZH_EMBEDDING_DIM,\n",
        "                      target_namespace='target_tokens',\n",
        "                      attention=attention,\n",
        "                      beam_size=8,\n",
        "                      use_bleu=True)\n",
        "optimizer = optim.Adam(model.parameters())\n",
        "iterator = BucketIterator(batch_size=32, sorting_keys=[(\"source_tokens\", \"num_tokens\")])\n",
        "\n",
        "iterator.index_with(vocab)\n",
        "#end skip"
      ],
      "execution_count": 0,
      "outputs": []
    },
    {
      "metadata": {
        "id": "b6PMYUmrWQSV",
        "colab_type": "text"
      },
      "cell_type": "markdown",
      "source": [
        ""
      ]
    },
    {
      "metadata": {
        "id": "UoN9KsCrHTQs",
        "colab_type": "code",
        "outputId": "d299fbe8-9f0d-47ec-8cf4-77e2230ba39e",
        "colab": {
          "base_uri": "https://localhost:8080/",
          "height": 3222
        }
      },
      "cell_type": "code",
      "source": [
        "CUDA_DEVICE = 0\n",
        "\n",
        "if torch.cuda.is_available():\n",
        "    cuda_device = 0\n",
        "    model = model.cuda(cuda_device)\n",
        "else:\n",
        "    cuda_device = -1\n",
        "    \n",
        "\n",
        "trainer = Trainer(model=model,\n",
        "                      optimizer=optimizer,\n",
        "                      iterator=iterator,\n",
        "                      train_dataset=train_dataset,\n",
        "                      validation_dataset=validation_dataset,\n",
        "                      num_epochs=1,\n",
        "                      cuda_device=CUDA_DEVICE)\n",
        "\n"
      ],
      "execution_count": 51,
      "outputs": [
        {
          "output_type": "stream",
          "text": [
            "You provided a validation dataset but patience was set to None, meaning that early stopping is disabled\n",
            "  0%|          | 0/17 [00:00<?, ?it/s]"
          ],
          "name": "stderr"
        },
        {
          "output_type": "stream",
          "text": [
            "Epoch: 0\n"
          ],
          "name": "stdout"
        },
        {
          "output_type": "stream",
          "text": [
            "loss: 0.2050 ||: 100%|██████████| 17/17 [00:01<00:00, 11.31it/s]\n",
            "BLEU: 0.0189, loss: 0.2451 ||: 100%|██████████| 3/3 [00:00<00:00,  5.71it/s]\n",
            "loss: 0.1972 ||:   6%|▌         | 1/17 [00:00<00:01,  8.71it/s]"
          ],
          "name": "stderr"
        },
        {
          "output_type": "stream",
          "text": [
            "Epoch: 1\n"
          ],
          "name": "stdout"
        },
        {
          "output_type": "stream",
          "text": [
            "loss: 0.2055 ||: 100%|██████████| 17/17 [00:01<00:00, 11.04it/s]\n",
            "BLEU: 0.0154, loss: 0.2138 ||: 100%|██████████| 3/3 [00:00<00:00,  5.68it/s]\n",
            "  0%|          | 0/17 [00:00<?, ?it/s]"
          ],
          "name": "stderr"
        },
        {
          "output_type": "stream",
          "text": [
            "Epoch: 2\n"
          ],
          "name": "stdout"
        },
        {
          "output_type": "stream",
          "text": [
            "loss: 0.2040 ||: 100%|██████████| 17/17 [00:01<00:00, 11.38it/s]\n",
            "BLEU: 0.0031, loss: 0.2173 ||: 100%|██████████| 3/3 [00:00<00:00,  6.24it/s]\n",
            "loss: 0.1706 ||:   6%|▌         | 1/17 [00:00<00:01,  9.65it/s]"
          ],
          "name": "stderr"
        },
        {
          "output_type": "stream",
          "text": [
            "Epoch: 3\n"
          ],
          "name": "stdout"
        },
        {
          "output_type": "stream",
          "text": [
            "loss: 0.2030 ||: 100%|██████████| 17/17 [00:01<00:00, 11.89it/s]\n",
            "BLEU: 0.0120, loss: 0.2159 ||: 100%|██████████| 3/3 [00:00<00:00,  5.92it/s]\n",
            "  0%|          | 0/17 [00:00<?, ?it/s]"
          ],
          "name": "stderr"
        },
        {
          "output_type": "stream",
          "text": [
            "Epoch: 4\n"
          ],
          "name": "stdout"
        },
        {
          "output_type": "stream",
          "text": [
            "loss: 0.2031 ||: 100%|██████████| 17/17 [00:01<00:00, 11.84it/s]\n",
            "BLEU: 0.0045, loss: 0.2174 ||: 100%|██████████| 3/3 [00:00<00:00,  5.73it/s]\n",
            "loss: 0.1462 ||:   6%|▌         | 1/17 [00:00<00:01,  8.60it/s]"
          ],
          "name": "stderr"
        },
        {
          "output_type": "stream",
          "text": [
            "Epoch: 5\n"
          ],
          "name": "stdout"
        },
        {
          "output_type": "stream",
          "text": [
            "loss: 0.2034 ||: 100%|██████████| 17/17 [00:01<00:00, 11.49it/s]\n",
            "BLEU: 0.0012, loss: 0.2227 ||: 100%|██████████| 3/3 [00:00<00:00,  6.46it/s]\n",
            "loss: 0.1684 ||:   6%|▌         | 1/17 [00:00<00:02,  7.82it/s]"
          ],
          "name": "stderr"
        },
        {
          "output_type": "stream",
          "text": [
            "Epoch: 6\n"
          ],
          "name": "stdout"
        },
        {
          "output_type": "stream",
          "text": [
            "loss: 0.2031 ||: 100%|██████████| 17/17 [00:01<00:00, 10.47it/s]\n",
            "BLEU: 0.1107, loss: 0.2146 ||: 100%|██████████| 3/3 [00:00<00:00,  5.61it/s]\n",
            "  0%|          | 0/17 [00:00<?, ?it/s]"
          ],
          "name": "stderr"
        },
        {
          "output_type": "stream",
          "text": [
            "Epoch: 7\n"
          ],
          "name": "stdout"
        },
        {
          "output_type": "stream",
          "text": [
            "loss: 0.2010 ||: 100%|██████████| 17/17 [00:01<00:00,  9.95it/s]\n",
            "BLEU: 0.0895, loss: 0.2237 ||: 100%|██████████| 3/3 [00:00<00:00,  4.90it/s]\n",
            "  0%|          | 0/17 [00:00<?, ?it/s]"
          ],
          "name": "stderr"
        },
        {
          "output_type": "stream",
          "text": [
            "Epoch: 8\n"
          ],
          "name": "stdout"
        },
        {
          "output_type": "stream",
          "text": [
            "loss: 0.2011 ||: 100%|██████████| 17/17 [00:01<00:00,  9.73it/s]\n",
            "BLEU: 0.0030, loss: 0.2562 ||: 100%|██████████| 3/3 [00:00<00:00,  5.21it/s]\n",
            "loss: 0.1661 ||:   6%|▌         | 1/17 [00:00<00:02,  7.87it/s]"
          ],
          "name": "stderr"
        },
        {
          "output_type": "stream",
          "text": [
            "Epoch: 9\n"
          ],
          "name": "stdout"
        },
        {
          "output_type": "stream",
          "text": [
            "loss: 0.2006 ||: 100%|██████████| 17/17 [00:01<00:00,  9.61it/s]\n",
            "BLEU: 0.0037, loss: 0.2240 ||: 100%|██████████| 3/3 [00:00<00:00,  5.39it/s]\n",
            "  0%|          | 0/17 [00:00<?, ?it/s]"
          ],
          "name": "stderr"
        },
        {
          "output_type": "stream",
          "text": [
            "Epoch: 10\n"
          ],
          "name": "stdout"
        },
        {
          "output_type": "stream",
          "text": [
            "loss: 0.1998 ||: 100%|██████████| 17/17 [00:01<00:00, 10.79it/s]\n",
            "BLEU: 0.0051, loss: 0.2434 ||: 100%|██████████| 3/3 [00:00<00:00,  5.63it/s]\n",
            "loss: 0.2378 ||:   6%|▌         | 1/17 [00:00<00:01,  8.98it/s]"
          ],
          "name": "stderr"
        },
        {
          "output_type": "stream",
          "text": [
            "Epoch: 11\n"
          ],
          "name": "stdout"
        },
        {
          "output_type": "stream",
          "text": [
            "loss: 0.2008 ||: 100%|██████████| 17/17 [00:01<00:00, 11.19it/s]\n",
            "BLEU: 0.0822, loss: 0.2285 ||: 100%|██████████| 3/3 [00:00<00:00,  6.09it/s]\n",
            "  0%|          | 0/17 [00:00<?, ?it/s]"
          ],
          "name": "stderr"
        },
        {
          "output_type": "stream",
          "text": [
            "Epoch: 12\n"
          ],
          "name": "stdout"
        },
        {
          "output_type": "stream",
          "text": [
            "loss: 0.1986 ||: 100%|██████████| 17/17 [00:01<00:00, 11.15it/s]\n",
            "BLEU: 0.0061, loss: 0.2139 ||: 100%|██████████| 3/3 [00:00<00:00,  6.01it/s]\n",
            "  0%|          | 0/17 [00:00<?, ?it/s]"
          ],
          "name": "stderr"
        },
        {
          "output_type": "stream",
          "text": [
            "Epoch: 13\n"
          ],
          "name": "stdout"
        },
        {
          "output_type": "stream",
          "text": [
            "loss: 0.2011 ||: 100%|██████████| 17/17 [00:01<00:00, 11.67it/s]\n",
            "BLEU: 0.1074, loss: 0.2561 ||: 100%|██████████| 3/3 [00:00<00:00,  6.20it/s]\n",
            "loss: 0.1814 ||:   6%|▌         | 1/17 [00:00<00:01,  9.33it/s]"
          ],
          "name": "stderr"
        },
        {
          "output_type": "stream",
          "text": [
            "Epoch: 14\n"
          ],
          "name": "stdout"
        },
        {
          "output_type": "stream",
          "text": [
            "loss: 0.2006 ||: 100%|██████████| 17/17 [00:01<00:00, 11.37it/s]\n",
            "BLEU: 0.0059, loss: 0.2621 ||: 100%|██████████| 3/3 [00:00<00:00,  6.12it/s]\n",
            "loss: 0.1970 ||:   6%|▌         | 1/17 [00:00<00:01,  9.38it/s]"
          ],
          "name": "stderr"
        },
        {
          "output_type": "stream",
          "text": [
            "Epoch: 15\n"
          ],
          "name": "stdout"
        },
        {
          "output_type": "stream",
          "text": [
            "loss: 0.1979 ||: 100%|██████████| 17/17 [00:01<00:00, 11.23it/s]\n",
            "BLEU: 0.0042, loss: 0.2112 ||: 100%|██████████| 3/3 [00:00<00:00,  5.61it/s]\n",
            "loss: 0.1412 ||:   6%|▌         | 1/17 [00:00<00:01,  8.70it/s]"
          ],
          "name": "stderr"
        },
        {
          "output_type": "stream",
          "text": [
            "Epoch: 16\n"
          ],
          "name": "stdout"
        },
        {
          "output_type": "stream",
          "text": [
            "loss: 0.1988 ||: 100%|██████████| 17/17 [00:01<00:00, 11.72it/s]\n",
            "BLEU: 0.0046, loss: 0.2385 ||: 100%|██████████| 3/3 [00:00<00:00,  5.94it/s]\n",
            "  0%|          | 0/17 [00:00<?, ?it/s]"
          ],
          "name": "stderr"
        },
        {
          "output_type": "stream",
          "text": [
            "Epoch: 17\n"
          ],
          "name": "stdout"
        },
        {
          "output_type": "stream",
          "text": [
            "loss: 0.1987 ||: 100%|██████████| 17/17 [00:01<00:00, 11.21it/s]\n",
            "BLEU: 0.0050, loss: 0.2494 ||: 100%|██████████| 3/3 [00:00<00:00,  5.57it/s]\n",
            "loss: 0.1379 ||:   6%|▌         | 1/17 [00:00<00:01,  9.02it/s]"
          ],
          "name": "stderr"
        },
        {
          "output_type": "stream",
          "text": [
            "Epoch: 18\n"
          ],
          "name": "stdout"
        },
        {
          "output_type": "stream",
          "text": [
            "loss: 0.2021 ||: 100%|██████████| 17/17 [00:01<00:00, 11.41it/s]\n",
            "BLEU: 0.0042, loss: 0.2176 ||: 100%|██████████| 3/3 [00:00<00:00,  5.80it/s]\n",
            "loss: 0.2104 ||:   6%|▌         | 1/17 [00:00<00:01,  9.10it/s]"
          ],
          "name": "stderr"
        },
        {
          "output_type": "stream",
          "text": [
            "Epoch: 19\n"
          ],
          "name": "stdout"
        },
        {
          "output_type": "stream",
          "text": [
            "loss: 0.2000 ||: 100%|██████████| 17/17 [00:01<00:00, 11.26it/s]\n",
            "BLEU: 0.0084, loss: 0.2124 ||: 100%|██████████| 3/3 [00:00<00:00,  6.10it/s]\n",
            "loss: 0.1157 ||:   6%|▌         | 1/17 [00:00<00:01,  8.80it/s]"
          ],
          "name": "stderr"
        },
        {
          "output_type": "stream",
          "text": [
            "Epoch: 20\n"
          ],
          "name": "stdout"
        },
        {
          "output_type": "stream",
          "text": [
            "loss: 0.2005 ||: 100%|██████████| 17/17 [00:01<00:00, 12.07it/s]\n",
            "BLEU: 0.0042, loss: 0.2136 ||: 100%|██████████| 3/3 [00:00<00:00,  5.60it/s]\n",
            "  0%|          | 0/17 [00:00<?, ?it/s]"
          ],
          "name": "stderr"
        },
        {
          "output_type": "stream",
          "text": [
            "Epoch: 21\n"
          ],
          "name": "stdout"
        },
        {
          "output_type": "stream",
          "text": [
            "loss: 0.1980 ||: 100%|██████████| 17/17 [00:01<00:00, 11.54it/s]\n",
            "BLEU: 0.0642, loss: 0.2141 ||: 100%|██████████| 3/3 [00:00<00:00,  5.93it/s]\n",
            "loss: 0.2295 ||:   6%|▌         | 1/17 [00:00<00:01,  9.63it/s]"
          ],
          "name": "stderr"
        },
        {
          "output_type": "stream",
          "text": [
            "Epoch: 22\n"
          ],
          "name": "stdout"
        },
        {
          "output_type": "stream",
          "text": [
            "loss: 0.1997 ||: 100%|██████████| 17/17 [00:01<00:00, 11.22it/s]\n",
            "BLEU: 0.0012, loss: 0.2471 ||: 100%|██████████| 3/3 [00:00<00:00,  5.77it/s]\n",
            "  0%|          | 0/17 [00:00<?, ?it/s]"
          ],
          "name": "stderr"
        },
        {
          "output_type": "stream",
          "text": [
            "Epoch: 23\n"
          ],
          "name": "stdout"
        },
        {
          "output_type": "stream",
          "text": [
            "loss: 0.1996 ||: 100%|██████████| 17/17 [00:01<00:00, 11.23it/s]\n",
            "BLEU: 0.0041, loss: 0.2081 ||: 100%|██████████| 3/3 [00:00<00:00,  5.37it/s]\n",
            "  0%|          | 0/17 [00:00<?, ?it/s]"
          ],
          "name": "stderr"
        },
        {
          "output_type": "stream",
          "text": [
            "Epoch: 24\n"
          ],
          "name": "stdout"
        },
        {
          "output_type": "stream",
          "text": [
            "loss: 0.1965 ||: 100%|██████████| 17/17 [00:01<00:00, 11.57it/s]\n",
            "BLEU: 0.0012, loss: 0.2181 ||: 100%|██████████| 3/3 [00:00<00:00,  6.10it/s]\n",
            "loss: 0.2080 ||:   6%|▌         | 1/17 [00:00<00:01,  9.83it/s]"
          ],
          "name": "stderr"
        },
        {
          "output_type": "stream",
          "text": [
            "Epoch: 25\n"
          ],
          "name": "stdout"
        },
        {
          "output_type": "stream",
          "text": [
            "loss: 0.1981 ||: 100%|██████████| 17/17 [00:01<00:00, 11.45it/s]\n",
            "BLEU: 0.0972, loss: 0.2445 ||: 100%|██████████| 3/3 [00:00<00:00,  5.81it/s]\n",
            "  0%|          | 0/17 [00:00<?, ?it/s]"
          ],
          "name": "stderr"
        },
        {
          "output_type": "stream",
          "text": [
            "Epoch: 26\n"
          ],
          "name": "stdout"
        },
        {
          "output_type": "stream",
          "text": [
            "loss: 0.1982 ||: 100%|██████████| 17/17 [00:01<00:00, 11.19it/s]\n",
            "BLEU: 0.0555, loss: 0.2078 ||: 100%|██████████| 3/3 [00:00<00:00,  5.56it/s]\n",
            "  0%|          | 0/17 [00:00<?, ?it/s]"
          ],
          "name": "stderr"
        },
        {
          "output_type": "stream",
          "text": [
            "Epoch: 27\n"
          ],
          "name": "stdout"
        },
        {
          "output_type": "stream",
          "text": [
            "loss: 0.1964 ||: 100%|██████████| 17/17 [00:01<00:00, 11.42it/s]\n",
            "BLEU: 0.0038, loss: 0.2473 ||: 100%|██████████| 3/3 [00:00<00:00,  6.24it/s]\n",
            "loss: 0.1318 ||:   6%|▌         | 1/17 [00:00<00:01,  8.99it/s]"
          ],
          "name": "stderr"
        },
        {
          "output_type": "stream",
          "text": [
            "Epoch: 28\n"
          ],
          "name": "stdout"
        },
        {
          "output_type": "stream",
          "text": [
            "loss: 0.1979 ||: 100%|██████████| 17/17 [00:01<00:00, 11.17it/s]\n",
            "BLEU: 0.0190, loss: 0.2159 ||: 100%|██████████| 3/3 [00:00<00:00,  6.24it/s]\n",
            "loss: 0.1785 ||:   6%|▌         | 1/17 [00:00<00:01,  9.84it/s]"
          ],
          "name": "stderr"
        },
        {
          "output_type": "stream",
          "text": [
            "Epoch: 29\n"
          ],
          "name": "stdout"
        },
        {
          "output_type": "stream",
          "text": [
            "loss: 0.1960 ||: 100%|██████████| 17/17 [00:01<00:00, 10.58it/s]\n",
            "BLEU: 0.0037, loss: 0.2134 ||: 100%|██████████| 3/3 [00:00<00:00,  6.23it/s]\n",
            "loss: 0.2235 ||:   6%|▌         | 1/17 [00:00<00:01,  9.38it/s]"
          ],
          "name": "stderr"
        },
        {
          "output_type": "stream",
          "text": [
            "Epoch: 30\n"
          ],
          "name": "stdout"
        },
        {
          "output_type": "stream",
          "text": [
            "loss: 0.1941 ||: 100%|██████████| 17/17 [00:01<00:00, 11.20it/s]\n",
            "BLEU: 0.0042, loss: 0.2227 ||: 100%|██████████| 3/3 [00:00<00:00,  5.99it/s]\n",
            "  0%|          | 0/17 [00:00<?, ?it/s]"
          ],
          "name": "stderr"
        },
        {
          "output_type": "stream",
          "text": [
            "Epoch: 31\n"
          ],
          "name": "stdout"
        },
        {
          "output_type": "stream",
          "text": [
            "loss: 0.1954 ||: 100%|██████████| 17/17 [00:01<00:00, 11.05it/s]\n",
            "BLEU: 0.0078, loss: 0.2438 ||: 100%|██████████| 3/3 [00:00<00:00,  5.33it/s]\n",
            "loss: 0.1845 ||:   6%|▌         | 1/17 [00:00<00:02,  7.90it/s]"
          ],
          "name": "stderr"
        },
        {
          "output_type": "stream",
          "text": [
            "Epoch: 32\n"
          ],
          "name": "stdout"
        },
        {
          "output_type": "stream",
          "text": [
            "loss: 0.1964 ||: 100%|██████████| 17/17 [00:01<00:00,  9.74it/s]\n",
            "BLEU: 0.0040, loss: 0.2270 ||: 100%|██████████| 3/3 [00:00<00:00,  4.93it/s]\n",
            "loss: 0.1178 ||:   6%|▌         | 1/17 [00:00<00:02,  7.86it/s]"
          ],
          "name": "stderr"
        },
        {
          "output_type": "stream",
          "text": [
            "Epoch: 33\n"
          ],
          "name": "stdout"
        },
        {
          "output_type": "stream",
          "text": [
            "loss: 0.2037 ||: 100%|██████████| 17/17 [00:01<00:00,  9.43it/s]\n",
            "BLEU: 0.0015, loss: 0.2729 ||: 100%|██████████| 3/3 [00:00<00:00,  5.72it/s]\n",
            "loss: 0.1914 ||:   6%|▌         | 1/17 [00:00<00:01,  8.81it/s]"
          ],
          "name": "stderr"
        },
        {
          "output_type": "stream",
          "text": [
            "Epoch: 34\n"
          ],
          "name": "stdout"
        },
        {
          "output_type": "stream",
          "text": [
            "loss: 0.2042 ||: 100%|██████████| 17/17 [00:01<00:00, 11.18it/s]\n",
            "BLEU: 0.0010, loss: 0.2290 ||: 100%|██████████| 3/3 [00:00<00:00,  5.88it/s]\n",
            "loss: 0.1500 ||:   6%|▌         | 1/17 [00:00<00:01,  8.48it/s]"
          ],
          "name": "stderr"
        },
        {
          "output_type": "stream",
          "text": [
            "Epoch: 35\n"
          ],
          "name": "stdout"
        },
        {
          "output_type": "stream",
          "text": [
            "loss: 0.2044 ||: 100%|██████████| 17/17 [00:01<00:00, 11.06it/s]\n",
            "BLEU: 0.0786, loss: 0.2170 ||: 100%|██████████| 3/3 [00:00<00:00,  5.92it/s]\n",
            "  0%|          | 0/17 [00:00<?, ?it/s]"
          ],
          "name": "stderr"
        },
        {
          "output_type": "stream",
          "text": [
            "Epoch: 36\n"
          ],
          "name": "stdout"
        },
        {
          "output_type": "stream",
          "text": [
            "loss: 0.1977 ||: 100%|██████████| 17/17 [00:01<00:00, 11.36it/s]\n",
            "BLEU: 0.0007, loss: 0.2174 ||: 100%|██████████| 3/3 [00:00<00:00,  5.98it/s]\n",
            "loss: 0.2347 ||:   6%|▌         | 1/17 [00:00<00:01,  9.48it/s]"
          ],
          "name": "stderr"
        },
        {
          "output_type": "stream",
          "text": [
            "Epoch: 37\n"
          ],
          "name": "stdout"
        },
        {
          "output_type": "stream",
          "text": [
            "loss: 0.1957 ||: 100%|██████████| 17/17 [00:01<00:00, 10.49it/s]\n",
            "BLEU: 0.0301, loss: 0.2138 ||: 100%|██████████| 3/3 [00:00<00:00,  5.37it/s]\n",
            "loss: 0.1930 ||:   6%|▌         | 1/17 [00:00<00:01,  8.16it/s]"
          ],
          "name": "stderr"
        },
        {
          "output_type": "stream",
          "text": [
            "Epoch: 38\n"
          ],
          "name": "stdout"
        },
        {
          "output_type": "stream",
          "text": [
            "loss: 0.1958 ||: 100%|██████████| 17/17 [00:01<00:00,  9.40it/s]\n",
            "BLEU: 0.1016, loss: 0.2102 ||: 100%|██████████| 3/3 [00:00<00:00,  5.01it/s]\n",
            "loss: 0.1993 ||:   6%|▌         | 1/17 [00:00<00:01,  8.21it/s]"
          ],
          "name": "stderr"
        },
        {
          "output_type": "stream",
          "text": [
            "Epoch: 39\n"
          ],
          "name": "stdout"
        },
        {
          "output_type": "stream",
          "text": [
            "loss: 0.1950 ||: 100%|██████████| 17/17 [00:01<00:00,  9.94it/s]\n",
            "BLEU: 0.0110, loss: 0.2198 ||: 100%|██████████| 3/3 [00:00<00:00,  5.21it/s]\n",
            "loss: 0.2470 ||:   6%|▌         | 1/17 [00:00<00:01,  9.63it/s]"
          ],
          "name": "stderr"
        },
        {
          "output_type": "stream",
          "text": [
            "Epoch: 40\n"
          ],
          "name": "stdout"
        },
        {
          "output_type": "stream",
          "text": [
            "loss: 0.1938 ||: 100%|██████████| 17/17 [00:01<00:00,  9.83it/s]\n",
            "BLEU: 0.0010, loss: 0.2137 ||: 100%|██████████| 3/3 [00:00<00:00,  5.54it/s]\n",
            "loss: 0.1822 ||:   6%|▌         | 1/17 [00:00<00:01,  8.23it/s]"
          ],
          "name": "stderr"
        },
        {
          "output_type": "stream",
          "text": [
            "Epoch: 41\n"
          ],
          "name": "stdout"
        },
        {
          "output_type": "stream",
          "text": [
            "loss: 0.1946 ||: 100%|██████████| 17/17 [00:01<00:00, 10.97it/s]\n",
            "BLEU: 0.0013, loss: 0.2193 ||: 100%|██████████| 3/3 [00:00<00:00,  6.25it/s]\n",
            "loss: 0.1985 ||:   6%|▌         | 1/17 [00:00<00:01,  9.33it/s]"
          ],
          "name": "stderr"
        },
        {
          "output_type": "stream",
          "text": [
            "Epoch: 42\n"
          ],
          "name": "stdout"
        },
        {
          "output_type": "stream",
          "text": [
            "loss: 0.1947 ||: 100%|██████████| 17/17 [00:01<00:00, 11.93it/s]\n",
            "BLEU: 0.0059, loss: 0.2458 ||: 100%|██████████| 3/3 [00:00<00:00,  6.29it/s]\n",
            "loss: 0.1438 ||:   6%|▌         | 1/17 [00:00<00:01,  8.14it/s]"
          ],
          "name": "stderr"
        },
        {
          "output_type": "stream",
          "text": [
            "Epoch: 43\n"
          ],
          "name": "stdout"
        },
        {
          "output_type": "stream",
          "text": [
            "loss: 0.1920 ||: 100%|██████████| 17/17 [00:01<00:00, 10.36it/s]\n",
            "BLEU: 0.0819, loss: 0.2466 ||: 100%|██████████| 3/3 [00:00<00:00,  5.29it/s]\n",
            "loss: 0.1776 ||:   6%|▌         | 1/17 [00:00<00:01,  8.99it/s]"
          ],
          "name": "stderr"
        },
        {
          "output_type": "stream",
          "text": [
            "Epoch: 44\n"
          ],
          "name": "stdout"
        },
        {
          "output_type": "stream",
          "text": [
            "loss: 0.1920 ||: 100%|██████████| 17/17 [00:01<00:00, 10.30it/s]\n",
            "BLEU: 0.0359, loss: 0.2458 ||: 100%|██████████| 3/3 [00:00<00:00,  5.35it/s]\n",
            "loss: 0.1646 ||:   6%|▌         | 1/17 [00:00<00:01,  9.03it/s]"
          ],
          "name": "stderr"
        },
        {
          "output_type": "stream",
          "text": [
            "Epoch: 45\n"
          ],
          "name": "stdout"
        },
        {
          "output_type": "stream",
          "text": [
            "loss: 0.1911 ||: 100%|██████████| 17/17 [00:01<00:00, 10.03it/s]\n",
            "BLEU: 0.0212, loss: 0.2096 ||: 100%|██████████| 3/3 [00:00<00:00,  5.26it/s]\n",
            "  0%|          | 0/17 [00:00<?, ?it/s]"
          ],
          "name": "stderr"
        },
        {
          "output_type": "stream",
          "text": [
            "Epoch: 46\n"
          ],
          "name": "stdout"
        },
        {
          "output_type": "stream",
          "text": [
            "loss: 0.1921 ||: 100%|██████████| 17/17 [00:01<00:00, 10.20it/s]\n",
            "BLEU: 0.0576, loss: 0.2093 ||: 100%|██████████| 3/3 [00:00<00:00,  5.41it/s]\n",
            "  0%|          | 0/17 [00:00<?, ?it/s]"
          ],
          "name": "stderr"
        },
        {
          "output_type": "stream",
          "text": [
            "Epoch: 47\n"
          ],
          "name": "stdout"
        },
        {
          "output_type": "stream",
          "text": [
            "loss: 0.1900 ||: 100%|██████████| 17/17 [00:01<00:00, 11.45it/s]\n",
            "BLEU: 0.0568, loss: 0.2453 ||: 100%|██████████| 3/3 [00:00<00:00,  5.81it/s]\n",
            "  0%|          | 0/17 [00:00<?, ?it/s]"
          ],
          "name": "stderr"
        },
        {
          "output_type": "stream",
          "text": [
            "Epoch: 48\n"
          ],
          "name": "stdout"
        },
        {
          "output_type": "stream",
          "text": [
            "loss: 0.1908 ||: 100%|██████████| 17/17 [00:01<00:00, 11.48it/s]\n",
            "BLEU: 0.0053, loss: 0.2511 ||: 100%|██████████| 3/3 [00:00<00:00,  5.88it/s]\n",
            "loss: 0.1219 ||:   6%|▌         | 1/17 [00:00<00:01,  9.09it/s]"
          ],
          "name": "stderr"
        },
        {
          "output_type": "stream",
          "text": [
            "Epoch: 49\n"
          ],
          "name": "stdout"
        },
        {
          "output_type": "stream",
          "text": [
            "loss: 0.1906 ||: 100%|██████████| 17/17 [00:01<00:00, 11.02it/s]\n",
            "BLEU: 0.0445, loss: 0.2035 ||: 100%|██████████| 3/3 [00:00<00:00,  6.05it/s]\n"
          ],
          "name": "stderr"
        },
        {
          "output_type": "stream",
          "text": [
            "SOURCE: [@start@, Are, you, young, ?, @end@]\n",
            "GOLD: [@start@, A, g, e,  , d, o, e, s, n, ', t,  , r, e, a, l, l, y,  , a, p, p, l, y,  , t, o,  , m, e, ., @end@]\n",
            "PRED: ['O', 'k', 'a', 'y', '.']\n",
            "SOURCE: [@start@, What, do, you, want, to, know, about, me, ?, @end@]\n",
            "GOLD: [@start@, I, ', m,  , b, e, t, t, e, r,  , a, t,  , a, n, s, w, e, r, i, n, g,  , q, u, e, s, t, i, o, n, s, ., @end@]\n",
            "PRED: ['I', ' ', 'w', 'o', 'u', 'l', 'd', 'n', \"'\", 't', ' ', 'k', 'n', 'o', 'w', ' ', 'h', 'o', 'w', ' ', 't', 'o', ' ', 'a', 'd', 'v', 'i', 's', 'e', ' ', 'a', 'b', 'o', 'u', 't', ' ', 't', 'h', 'i', 's', '.']\n",
            "SOURCE: [@start@, You, bore, me, @end@]\n",
            "GOLD: [@start@, I,  , a, i, m,  , f, o, r,  , e, f, f, i, c, i, e, n, c, y, ., @end@]\n",
            "PRED: ['I', ' ', 'a', 'i', 'm', ' ', 't', 'o', ' ', 's', 'e', 'r', 'v', 'e', '.']\n",
            "SOURCE: [@start@, Why, are, you, so, boring, ?, @end@]\n",
            "GOLD: [@start@, I,  , a, i, m,  , f, o, r,  , e, f, f, i, c, i, e, n, c, y, ., @end@]\n",
            "PRED: ['O', 'k', '.']\n",
            "SOURCE: [@start@, Cook, me, something, @end@]\n",
            "GOLD: [@start@, T, h, a, t, ', s,  , n, o, t,  , s, o, m, e, t, h, i, n, g,  , I,  , c, a, n,  , d, o, ., @end@]\n",
            "PRED: ['I', ' ', 'a', 'i', 'm', ' ', 't', 'o', ' ', 's', 'e', 'r', 'v', 'e', '.']\n",
            "SOURCE: [@start@, What, can, you, do, ?, @end@]\n",
            "GOLD: [@start@, I, ', m,  , h, e, r, e,  , t, o,  , a, n, s, w, e, r,  , y, o, u, r,  , q, u, e, s, t, i, o, n, s,  , a, n, d,  , h, e, l, p,  , o, u, t, ., @end@]\n",
            "PRED: ['O', 'k', '.']\n",
            "SOURCE: [@start@, Which, people, made, you, ?, @end@]\n",
            "GOLD: [@start@, P, e, o, p, l, e,  , c, r, e, a, t, e, d,  , m, e, ., @end@]\n",
            "PRED: ['O', 'k', '.']\n",
            "SOURCE: [@start@, Do, you, have, a, family, ?, @end@]\n",
            "GOLD: [@start@, I,  , d, o, n, ', t,  , h, a, v, e,  , f, a, m, i, l, y, ., @end@]\n",
            "PRED: ['O', 'k', '.']\n",
            "SOURCE: [@start@, Are, you, a, man, ?, @end@]\n",
            "GOLD: [@start@, T, h, a, t, ', s,  , a,  , b, i, o, l, o, g, i, c, a, l,  , c, o, n, c, e, p, t,  , t, h, a, t,  , d, o, e, s, n, ', t,  , a, p, p, l, y,  , t, o,  , m, e, ., @end@]\n",
            "PRED: ['O', 'k', '.']\n",
            "SOURCE: [@start@, What, 's, your, gender, ?, @end@]\n",
            "GOLD: [@start@, T, h, a, t, ', s,  , a,  , b, i, o, l, o, g, i, c, a, l,  , c, o, n, c, e, p, t,  , t, h, a, t,  , d, o, e, s, n, ', t,  , a, p, p, l, y,  , t, o,  , m, e, ., @end@]\n",
            "PRED: ['O', 'k', '.']\n"
          ],
          "name": "stdout"
        }
      ]
    },
    {
      "metadata": {
        "id": "PzqTqB_X9i3M",
        "colab_type": "code",
        "colab": {
          "base_uri": "https://localhost:8080/",
          "height": 3431
        },
        "outputId": "c428fe33-f0e2-4505-e5d6-9e25cbef285b"
      },
      "cell_type": "code",
      "source": [
        "for i in range(50):\n",
        "    print('Epoch: {}'.format(i))\n",
        "    metrics = trainer.train()\n",
        "\n",
        "    predictor = SimpleSeq2SeqPredictor(model, reader)\n",
        "\n",
        "    #do predictions on last epoch\n",
        "    if i >= 49:\n",
        "      for instance in itertools.islice(validation_dataset, 10):\n",
        "          print('SOURCE:', instance.fields['source_tokens'].tokens)\n",
        "          print('GOLD:', instance.fields['target_tokens'].tokens)\n",
        "          print('PRED:', predictor.predict_instance(instance)['predicted_tokens'])\n",
        "          \n",
        "metrics"
      ],
      "execution_count": 53,
      "outputs": [
        {
          "output_type": "stream",
          "text": [
            "loss: 0.1814 ||:   6%|▌         | 1/17 [00:00<00:01,  9.98it/s]"
          ],
          "name": "stderr"
        },
        {
          "output_type": "stream",
          "text": [
            "Epoch: 0\n"
          ],
          "name": "stdout"
        },
        {
          "output_type": "stream",
          "text": [
            "loss: 0.1919 ||: 100%|██████████| 17/17 [00:01<00:00, 11.16it/s]\n",
            "BLEU: 0.0643, loss: 0.2168 ||: 100%|██████████| 3/3 [00:00<00:00,  5.96it/s]\n",
            "  0%|          | 0/17 [00:00<?, ?it/s]"
          ],
          "name": "stderr"
        },
        {
          "output_type": "stream",
          "text": [
            "Epoch: 1\n"
          ],
          "name": "stdout"
        },
        {
          "output_type": "stream",
          "text": [
            "loss: 0.1911 ||: 100%|██████████| 17/17 [00:01<00:00, 11.61it/s]\n",
            "BLEU: 0.0436, loss: 0.2139 ||: 100%|██████████| 3/3 [00:00<00:00,  6.15it/s]\n",
            "loss: 0.1888 ||:   6%|▌         | 1/17 [00:00<00:01,  9.18it/s]"
          ],
          "name": "stderr"
        },
        {
          "output_type": "stream",
          "text": [
            "Epoch: 2\n"
          ],
          "name": "stdout"
        },
        {
          "output_type": "stream",
          "text": [
            "loss: 0.1909 ||: 100%|██████████| 17/17 [00:01<00:00, 11.22it/s]\n",
            "BLEU: 0.0684, loss: 0.2426 ||: 100%|██████████| 3/3 [00:00<00:00,  5.82it/s]\n",
            "loss: 0.1702 ||:   6%|▌         | 1/17 [00:00<00:01,  8.67it/s]"
          ],
          "name": "stderr"
        },
        {
          "output_type": "stream",
          "text": [
            "Epoch: 3\n"
          ],
          "name": "stdout"
        },
        {
          "output_type": "stream",
          "text": [
            "loss: 0.1911 ||: 100%|██████████| 17/17 [00:01<00:00, 11.33it/s]\n",
            "BLEU: 0.0008, loss: 0.2162 ||: 100%|██████████| 3/3 [00:00<00:00,  6.21it/s]\n",
            "  0%|          | 0/17 [00:00<?, ?it/s]"
          ],
          "name": "stderr"
        },
        {
          "output_type": "stream",
          "text": [
            "Epoch: 4\n"
          ],
          "name": "stdout"
        },
        {
          "output_type": "stream",
          "text": [
            "loss: 0.1909 ||: 100%|██████████| 17/17 [00:01<00:00, 11.72it/s]\n",
            "BLEU: 0.0049, loss: 0.2553 ||: 100%|██████████| 3/3 [00:00<00:00,  6.37it/s]\n",
            "loss: 0.1367 ||:   6%|▌         | 1/17 [00:00<00:02,  7.82it/s]"
          ],
          "name": "stderr"
        },
        {
          "output_type": "stream",
          "text": [
            "Epoch: 5\n"
          ],
          "name": "stdout"
        },
        {
          "output_type": "stream",
          "text": [
            "loss: 0.1908 ||: 100%|██████████| 17/17 [00:01<00:00, 11.35it/s]\n",
            "BLEU: 0.0054, loss: 0.2129 ||: 100%|██████████| 3/3 [00:00<00:00,  5.62it/s]\n",
            "loss: 0.1509 ||:   6%|▌         | 1/17 [00:00<00:01,  8.25it/s]"
          ],
          "name": "stderr"
        },
        {
          "output_type": "stream",
          "text": [
            "Epoch: 6\n"
          ],
          "name": "stdout"
        },
        {
          "output_type": "stream",
          "text": [
            "loss: 0.1906 ||: 100%|██████████| 17/17 [00:01<00:00, 11.38it/s]\n",
            "BLEU: 0.0555, loss: 0.2164 ||: 100%|██████████| 3/3 [00:00<00:00,  6.13it/s]\n",
            "loss: 0.2131 ||:   6%|▌         | 1/17 [00:00<00:01,  8.79it/s]"
          ],
          "name": "stderr"
        },
        {
          "output_type": "stream",
          "text": [
            "Epoch: 7\n"
          ],
          "name": "stdout"
        },
        {
          "output_type": "stream",
          "text": [
            "loss: 0.1890 ||: 100%|██████████| 17/17 [00:01<00:00, 11.03it/s]\n",
            "BLEU: 0.0459, loss: 0.2175 ||: 100%|██████████| 3/3 [00:00<00:00,  6.08it/s]\n",
            "  0%|          | 0/17 [00:00<?, ?it/s]"
          ],
          "name": "stderr"
        },
        {
          "output_type": "stream",
          "text": [
            "Epoch: 8\n"
          ],
          "name": "stdout"
        },
        {
          "output_type": "stream",
          "text": [
            "loss: 0.1911 ||: 100%|██████████| 17/17 [00:01<00:00, 11.58it/s]\n",
            "BLEU: 0.0679, loss: 0.2560 ||: 100%|██████████| 3/3 [00:00<00:00,  6.18it/s]\n",
            "  0%|          | 0/17 [00:00<?, ?it/s]"
          ],
          "name": "stderr"
        },
        {
          "output_type": "stream",
          "text": [
            "Epoch: 9\n"
          ],
          "name": "stdout"
        },
        {
          "output_type": "stream",
          "text": [
            "loss: 0.1874 ||: 100%|██████████| 17/17 [00:01<00:00, 11.68it/s]\n",
            "BLEU: 0.0475, loss: 0.2136 ||: 100%|██████████| 3/3 [00:00<00:00,  5.85it/s]\n",
            "loss: 0.2095 ||:   6%|▌         | 1/17 [00:00<00:01,  9.26it/s]"
          ],
          "name": "stderr"
        },
        {
          "output_type": "stream",
          "text": [
            "Epoch: 10\n"
          ],
          "name": "stdout"
        },
        {
          "output_type": "stream",
          "text": [
            "loss: 0.1888 ||: 100%|██████████| 17/17 [00:01<00:00, 11.76it/s]\n",
            "BLEU: 0.0566, loss: 0.2538 ||: 100%|██████████| 3/3 [00:00<00:00,  6.23it/s]\n",
            "loss: 0.1268 ||:   6%|▌         | 1/17 [00:00<00:01,  9.15it/s]"
          ],
          "name": "stderr"
        },
        {
          "output_type": "stream",
          "text": [
            "Epoch: 11\n"
          ],
          "name": "stdout"
        },
        {
          "output_type": "stream",
          "text": [
            "loss: 0.1888 ||: 100%|██████████| 17/17 [00:01<00:00, 11.58it/s]\n",
            "BLEU: 0.0689, loss: 0.2431 ||: 100%|██████████| 3/3 [00:00<00:00,  6.13it/s]\n",
            "loss: 0.1303 ||:   6%|▌         | 1/17 [00:00<00:01,  8.85it/s]"
          ],
          "name": "stderr"
        },
        {
          "output_type": "stream",
          "text": [
            "Epoch: 12\n"
          ],
          "name": "stdout"
        },
        {
          "output_type": "stream",
          "text": [
            "loss: 0.1889 ||: 100%|██████████| 17/17 [00:01<00:00, 11.03it/s]\n",
            "BLEU: 0.0174, loss: 0.2066 ||: 100%|██████████| 3/3 [00:00<00:00,  5.09it/s]\n",
            "loss: 0.1913 ||:   6%|▌         | 1/17 [00:00<00:01,  8.33it/s]"
          ],
          "name": "stderr"
        },
        {
          "output_type": "stream",
          "text": [
            "Epoch: 13\n"
          ],
          "name": "stdout"
        },
        {
          "output_type": "stream",
          "text": [
            "loss: 0.1881 ||: 100%|██████████| 17/17 [00:01<00:00, 10.16it/s]\n",
            "BLEU: 0.0869, loss: 0.2011 ||: 100%|██████████| 3/3 [00:00<00:00,  5.40it/s]\n",
            "loss: 0.2384 ||:   6%|▌         | 1/17 [00:00<00:01,  9.50it/s]"
          ],
          "name": "stderr"
        },
        {
          "output_type": "stream",
          "text": [
            "Epoch: 14\n"
          ],
          "name": "stdout"
        },
        {
          "output_type": "stream",
          "text": [
            "loss: 0.1898 ||: 100%|██████████| 17/17 [00:01<00:00, 10.07it/s]\n",
            "BLEU: 0.0056, loss: 0.2563 ||: 100%|██████████| 3/3 [00:00<00:00,  5.42it/s]\n",
            "  0%|          | 0/17 [00:00<?, ?it/s]"
          ],
          "name": "stderr"
        },
        {
          "output_type": "stream",
          "text": [
            "Epoch: 15\n"
          ],
          "name": "stdout"
        },
        {
          "output_type": "stream",
          "text": [
            "loss: 0.1883 ||: 100%|██████████| 17/17 [00:01<00:00, 10.19it/s]\n",
            "BLEU: 0.0220, loss: 0.2091 ||: 100%|██████████| 3/3 [00:00<00:00,  5.47it/s]\n",
            "  0%|          | 0/17 [00:00<?, ?it/s]"
          ],
          "name": "stderr"
        },
        {
          "output_type": "stream",
          "text": [
            "Epoch: 16\n"
          ],
          "name": "stdout"
        },
        {
          "output_type": "stream",
          "text": [
            "loss: 0.1870 ||: 100%|██████████| 17/17 [00:01<00:00, 10.33it/s]\n",
            "BLEU: 0.0104, loss: 0.2160 ||: 100%|██████████| 3/3 [00:00<00:00,  5.89it/s]\n",
            "  0%|          | 0/17 [00:00<?, ?it/s]"
          ],
          "name": "stderr"
        },
        {
          "output_type": "stream",
          "text": [
            "Epoch: 17\n"
          ],
          "name": "stdout"
        },
        {
          "output_type": "stream",
          "text": [
            "loss: 0.1888 ||: 100%|██████████| 17/17 [00:01<00:00, 11.70it/s]\n",
            "BLEU: 0.0384, loss: 0.2146 ||: 100%|██████████| 3/3 [00:00<00:00,  5.55it/s]\n",
            "loss: 0.1826 ||:   6%|▌         | 1/17 [00:00<00:01,  9.13it/s]"
          ],
          "name": "stderr"
        },
        {
          "output_type": "stream",
          "text": [
            "Epoch: 18\n"
          ],
          "name": "stdout"
        },
        {
          "output_type": "stream",
          "text": [
            "loss: 0.1876 ||: 100%|██████████| 17/17 [00:01<00:00, 11.38it/s]\n",
            "BLEU: 0.0198, loss: 0.2046 ||: 100%|██████████| 3/3 [00:00<00:00,  5.62it/s]\n",
            "  0%|          | 0/17 [00:00<?, ?it/s]"
          ],
          "name": "stderr"
        },
        {
          "output_type": "stream",
          "text": [
            "Epoch: 19\n"
          ],
          "name": "stdout"
        },
        {
          "output_type": "stream",
          "text": [
            "loss: 0.1860 ||: 100%|██████████| 17/17 [00:01<00:00, 11.09it/s]\n",
            "BLEU: 0.0047, loss: 0.2172 ||: 100%|██████████| 3/3 [00:00<00:00,  5.78it/s]\n",
            "loss: 0.1311 ||:   6%|▌         | 1/17 [00:00<00:01,  9.24it/s]"
          ],
          "name": "stderr"
        },
        {
          "output_type": "stream",
          "text": [
            "Epoch: 20\n"
          ],
          "name": "stdout"
        },
        {
          "output_type": "stream",
          "text": [
            "loss: 0.1869 ||: 100%|██████████| 17/17 [00:01<00:00, 10.90it/s]\n",
            "BLEU: 0.0117, loss: 0.2125 ||: 100%|██████████| 3/3 [00:00<00:00,  6.12it/s]\n",
            "loss: 0.1894 ||:   6%|▌         | 1/17 [00:00<00:01,  9.41it/s]"
          ],
          "name": "stderr"
        },
        {
          "output_type": "stream",
          "text": [
            "Epoch: 21\n"
          ],
          "name": "stdout"
        },
        {
          "output_type": "stream",
          "text": [
            "loss: 0.1870 ||: 100%|██████████| 17/17 [00:01<00:00, 11.34it/s]\n",
            "BLEU: 0.0868, loss: 0.2495 ||: 100%|██████████| 3/3 [00:00<00:00,  5.96it/s]\n",
            "loss: 0.1823 ||:   6%|▌         | 1/17 [00:00<00:01,  9.58it/s]"
          ],
          "name": "stderr"
        },
        {
          "output_type": "stream",
          "text": [
            "Epoch: 22\n"
          ],
          "name": "stdout"
        },
        {
          "output_type": "stream",
          "text": [
            "loss: 0.1892 ||: 100%|██████████| 17/17 [00:01<00:00, 11.38it/s]\n",
            "BLEU: 0.0094, loss: 0.2098 ||: 100%|██████████| 3/3 [00:00<00:00,  5.97it/s]\n",
            "loss: 0.2009 ||:   6%|▌         | 1/17 [00:00<00:01,  9.55it/s]"
          ],
          "name": "stderr"
        },
        {
          "output_type": "stream",
          "text": [
            "Epoch: 23\n"
          ],
          "name": "stdout"
        },
        {
          "output_type": "stream",
          "text": [
            "loss: 0.1906 ||: 100%|██████████| 17/17 [00:01<00:00, 11.69it/s]\n",
            "BLEU: 0.0049, loss: 0.2113 ||: 100%|██████████| 3/3 [00:00<00:00,  5.85it/s]\n",
            "loss: 0.1562 ||:   6%|▌         | 1/17 [00:00<00:01,  9.09it/s]"
          ],
          "name": "stderr"
        },
        {
          "output_type": "stream",
          "text": [
            "Epoch: 24\n"
          ],
          "name": "stdout"
        },
        {
          "output_type": "stream",
          "text": [
            "loss: 0.1933 ||: 100%|██████████| 17/17 [00:01<00:00, 11.57it/s]\n",
            "BLEU: 0.0490, loss: 0.2359 ||: 100%|██████████| 3/3 [00:00<00:00,  5.69it/s]\n",
            "loss: 0.2022 ||:  12%|█▏        | 2/17 [00:00<00:01, 13.00it/s]"
          ],
          "name": "stderr"
        },
        {
          "output_type": "stream",
          "text": [
            "Epoch: 25\n"
          ],
          "name": "stdout"
        },
        {
          "output_type": "stream",
          "text": [
            "loss: 0.1894 ||: 100%|██████████| 17/17 [00:01<00:00, 11.67it/s]\n",
            "BLEU: 0.0027, loss: 0.2093 ||: 100%|██████████| 3/3 [00:00<00:00,  6.07it/s]\n",
            "loss: 0.1801 ||:   6%|▌         | 1/17 [00:00<00:01,  9.72it/s]"
          ],
          "name": "stderr"
        },
        {
          "output_type": "stream",
          "text": [
            "Epoch: 26\n"
          ],
          "name": "stdout"
        },
        {
          "output_type": "stream",
          "text": [
            "loss: 0.1899 ||: 100%|██████████| 17/17 [00:01<00:00, 11.14it/s]\n",
            "BLEU: 0.0137, loss: 0.2465 ||: 100%|██████████| 3/3 [00:00<00:00,  5.69it/s]\n",
            "  0%|          | 0/17 [00:00<?, ?it/s]"
          ],
          "name": "stderr"
        },
        {
          "output_type": "stream",
          "text": [
            "Epoch: 27\n"
          ],
          "name": "stdout"
        },
        {
          "output_type": "stream",
          "text": [
            "loss: 0.1881 ||: 100%|██████████| 17/17 [00:01<00:00, 11.45it/s]\n",
            "BLEU: 0.0028, loss: 0.2070 ||: 100%|██████████| 3/3 [00:00<00:00,  5.95it/s]\n",
            "loss: 0.1907 ||:   6%|▌         | 1/17 [00:00<00:01,  9.33it/s]"
          ],
          "name": "stderr"
        },
        {
          "output_type": "stream",
          "text": [
            "Epoch: 28\n"
          ],
          "name": "stdout"
        },
        {
          "output_type": "stream",
          "text": [
            "loss: 0.1871 ||: 100%|██████████| 17/17 [00:01<00:00, 11.56it/s]\n",
            "BLEU: 0.0036, loss: 0.2519 ||: 100%|██████████| 3/3 [00:00<00:00,  5.89it/s]\n",
            "  0%|          | 0/17 [00:00<?, ?it/s]"
          ],
          "name": "stderr"
        },
        {
          "output_type": "stream",
          "text": [
            "Epoch: 29\n"
          ],
          "name": "stdout"
        },
        {
          "output_type": "stream",
          "text": [
            "loss: 0.1856 ||: 100%|██████████| 17/17 [00:01<00:00, 11.51it/s]\n",
            "BLEU: 0.0198, loss: 0.2095 ||: 100%|██████████| 3/3 [00:00<00:00,  6.02it/s]\n",
            "loss: 0.2391 ||:   6%|▌         | 1/17 [00:00<00:01,  9.41it/s]"
          ],
          "name": "stderr"
        },
        {
          "output_type": "stream",
          "text": [
            "Epoch: 30\n"
          ],
          "name": "stdout"
        },
        {
          "output_type": "stream",
          "text": [
            "loss: 0.1859 ||: 100%|██████████| 17/17 [00:01<00:00, 11.56it/s]\n",
            "BLEU: 0.0893, loss: 0.2128 ||: 100%|██████████| 3/3 [00:00<00:00,  6.15it/s]\n",
            "loss: 0.2197 ||:   6%|▌         | 1/17 [00:00<00:01,  9.49it/s]"
          ],
          "name": "stderr"
        },
        {
          "output_type": "stream",
          "text": [
            "Epoch: 31\n"
          ],
          "name": "stdout"
        },
        {
          "output_type": "stream",
          "text": [
            "loss: 0.1871 ||: 100%|██████████| 17/17 [00:01<00:00, 11.96it/s]\n",
            "BLEU: 0.0173, loss: 0.2080 ||: 100%|██████████| 3/3 [00:00<00:00,  6.54it/s]\n",
            "loss: 0.1416 ||:   6%|▌         | 1/17 [00:00<00:01,  8.81it/s]"
          ],
          "name": "stderr"
        },
        {
          "output_type": "stream",
          "text": [
            "Epoch: 32\n"
          ],
          "name": "stdout"
        },
        {
          "output_type": "stream",
          "text": [
            "loss: 0.1879 ||: 100%|██████████| 17/17 [00:01<00:00, 11.07it/s]\n",
            "BLEU: 0.0111, loss: 0.2548 ||: 100%|██████████| 3/3 [00:00<00:00,  5.65it/s]\n",
            "  0%|          | 0/17 [00:00<?, ?it/s]"
          ],
          "name": "stderr"
        },
        {
          "output_type": "stream",
          "text": [
            "Epoch: 33\n"
          ],
          "name": "stdout"
        },
        {
          "output_type": "stream",
          "text": [
            "loss: 0.2116 ||: 100%|██████████| 17/17 [00:01<00:00, 11.60it/s]\n",
            "BLEU: 0.0567, loss: 0.2764 ||: 100%|██████████| 3/3 [00:00<00:00,  5.47it/s]\n",
            "loss: 0.2131 ||:   6%|▌         | 1/17 [00:00<00:01,  9.39it/s]"
          ],
          "name": "stderr"
        },
        {
          "output_type": "stream",
          "text": [
            "Epoch: 34\n"
          ],
          "name": "stdout"
        },
        {
          "output_type": "stream",
          "text": [
            "loss: 0.2208 ||: 100%|██████████| 17/17 [00:01<00:00, 11.51it/s]\n",
            "BLEU: 0.0034, loss: 0.2514 ||: 100%|██████████| 3/3 [00:00<00:00,  6.01it/s]\n",
            "  0%|          | 0/17 [00:00<?, ?it/s]"
          ],
          "name": "stderr"
        },
        {
          "output_type": "stream",
          "text": [
            "Epoch: 35\n"
          ],
          "name": "stdout"
        },
        {
          "output_type": "stream",
          "text": [
            "loss: 0.2142 ||: 100%|██████████| 17/17 [00:01<00:00, 11.65it/s]\n",
            "BLEU: 0.0040, loss: 0.2655 ||: 100%|██████████| 3/3 [00:00<00:00,  6.13it/s]\n",
            "loss: 0.2255 ||:   6%|▌         | 1/17 [00:00<00:01,  9.73it/s]"
          ],
          "name": "stderr"
        },
        {
          "output_type": "stream",
          "text": [
            "Epoch: 36\n"
          ],
          "name": "stdout"
        },
        {
          "output_type": "stream",
          "text": [
            "loss: 0.2008 ||: 100%|██████████| 17/17 [00:01<00:00, 11.39it/s]\n",
            "BLEU: 0.0053, loss: 0.2362 ||: 100%|██████████| 3/3 [00:00<00:00,  6.20it/s]\n",
            "loss: 0.1926 ||:   6%|▌         | 1/17 [00:00<00:01,  9.08it/s]"
          ],
          "name": "stderr"
        },
        {
          "output_type": "stream",
          "text": [
            "Epoch: 37\n"
          ],
          "name": "stdout"
        },
        {
          "output_type": "stream",
          "text": [
            "loss: 0.1960 ||: 100%|██████████| 17/17 [00:01<00:00, 11.42it/s]\n",
            "BLEU: 0.0018, loss: 0.2423 ||: 100%|██████████| 3/3 [00:00<00:00,  6.15it/s]\n",
            "loss: 0.1937 ||:   6%|▌         | 1/17 [00:00<00:01,  9.71it/s]"
          ],
          "name": "stderr"
        },
        {
          "output_type": "stream",
          "text": [
            "Epoch: 38\n"
          ],
          "name": "stdout"
        },
        {
          "output_type": "stream",
          "text": [
            "loss: 0.1916 ||: 100%|██████████| 17/17 [00:01<00:00, 11.29it/s]\n",
            "BLEU: 0.0123, loss: 0.2094 ||: 100%|██████████| 3/3 [00:00<00:00,  6.29it/s]\n",
            "loss: 0.2250 ||:  12%|█▏        | 2/17 [00:00<00:01, 12.88it/s]"
          ],
          "name": "stderr"
        },
        {
          "output_type": "stream",
          "text": [
            "Epoch: 39\n"
          ],
          "name": "stdout"
        },
        {
          "output_type": "stream",
          "text": [
            "loss: 0.1878 ||: 100%|██████████| 17/17 [00:01<00:00, 11.43it/s]\n",
            "BLEU: 0.0074, loss: 0.2135 ||: 100%|██████████| 3/3 [00:00<00:00,  6.17it/s]\n",
            "loss: 0.1433 ||:   6%|▌         | 1/17 [00:00<00:01,  8.71it/s]"
          ],
          "name": "stderr"
        },
        {
          "output_type": "stream",
          "text": [
            "Epoch: 40\n"
          ],
          "name": "stdout"
        },
        {
          "output_type": "stream",
          "text": [
            "loss: 0.1867 ||: 100%|██████████| 17/17 [00:01<00:00, 11.71it/s]\n",
            "BLEU: 0.0261, loss: 0.2337 ||: 100%|██████████| 3/3 [00:00<00:00,  5.82it/s]\n",
            "loss: 0.1325 ||:   6%|▌         | 1/17 [00:00<00:01,  9.33it/s]"
          ],
          "name": "stderr"
        },
        {
          "output_type": "stream",
          "text": [
            "Epoch: 41\n"
          ],
          "name": "stdout"
        },
        {
          "output_type": "stream",
          "text": [
            "loss: 0.1859 ||: 100%|██████████| 17/17 [00:01<00:00, 11.78it/s]\n",
            "BLEU: 0.0095, loss: 0.2481 ||: 100%|██████████| 3/3 [00:00<00:00,  6.08it/s]\n",
            "loss: 0.1755 ||:   6%|▌         | 1/17 [00:00<00:01,  9.69it/s]"
          ],
          "name": "stderr"
        },
        {
          "output_type": "stream",
          "text": [
            "Epoch: 42\n"
          ],
          "name": "stdout"
        },
        {
          "output_type": "stream",
          "text": [
            "loss: 0.1859 ||: 100%|██████████| 17/17 [00:01<00:00, 12.12it/s]\n",
            "BLEU: 0.0125, loss: 0.2523 ||: 100%|██████████| 3/3 [00:00<00:00,  6.43it/s]\n",
            "loss: 0.1697 ||:   6%|▌         | 1/17 [00:00<00:01,  9.40it/s]"
          ],
          "name": "stderr"
        },
        {
          "output_type": "stream",
          "text": [
            "Epoch: 43\n"
          ],
          "name": "stdout"
        },
        {
          "output_type": "stream",
          "text": [
            "loss: 0.1849 ||: 100%|██████████| 17/17 [00:01<00:00, 11.67it/s]\n",
            "BLEU: 0.0504, loss: 0.2087 ||: 100%|██████████| 3/3 [00:00<00:00,  5.98it/s]\n",
            "loss: 0.1411 ||:   6%|▌         | 1/17 [00:00<00:01,  9.13it/s]"
          ],
          "name": "stderr"
        },
        {
          "output_type": "stream",
          "text": [
            "Epoch: 44\n"
          ],
          "name": "stdout"
        },
        {
          "output_type": "stream",
          "text": [
            "loss: 0.1852 ||: 100%|██████████| 17/17 [00:01<00:00, 11.68it/s]\n",
            "BLEU: 0.0059, loss: 0.2132 ||: 100%|██████████| 3/3 [00:00<00:00,  6.27it/s]\n",
            "loss: 0.1393 ||:   6%|▌         | 1/17 [00:00<00:01,  8.73it/s]"
          ],
          "name": "stderr"
        },
        {
          "output_type": "stream",
          "text": [
            "Epoch: 45\n"
          ],
          "name": "stdout"
        },
        {
          "output_type": "stream",
          "text": [
            "loss: 0.1848 ||: 100%|██████████| 17/17 [00:01<00:00, 11.48it/s]\n",
            "BLEU: 0.0577, loss: 0.2558 ||: 100%|██████████| 3/3 [00:00<00:00,  5.97it/s]\n",
            "loss: 0.1763 ||:   6%|▌         | 1/17 [00:00<00:01,  8.52it/s]"
          ],
          "name": "stderr"
        },
        {
          "output_type": "stream",
          "text": [
            "Epoch: 46\n"
          ],
          "name": "stdout"
        },
        {
          "output_type": "stream",
          "text": [
            "loss: 0.1830 ||: 100%|██████████| 17/17 [00:01<00:00, 11.65it/s]\n",
            "BLEU: 0.0295, loss: 0.2149 ||: 100%|██████████| 3/3 [00:00<00:00,  6.13it/s]\n",
            "loss: 0.1980 ||:   6%|▌         | 1/17 [00:00<00:01,  9.49it/s]"
          ],
          "name": "stderr"
        },
        {
          "output_type": "stream",
          "text": [
            "Epoch: 47\n"
          ],
          "name": "stdout"
        },
        {
          "output_type": "stream",
          "text": [
            "loss: 0.1858 ||: 100%|██████████| 17/17 [00:01<00:00, 11.80it/s]\n",
            "BLEU: 0.0142, loss: 0.2398 ||: 100%|██████████| 3/3 [00:00<00:00,  6.00it/s]\n",
            "  0%|          | 0/17 [00:00<?, ?it/s]"
          ],
          "name": "stderr"
        },
        {
          "output_type": "stream",
          "text": [
            "Epoch: 48\n"
          ],
          "name": "stdout"
        },
        {
          "output_type": "stream",
          "text": [
            "loss: 0.1858 ||: 100%|██████████| 17/17 [00:01<00:00, 11.23it/s]\n",
            "BLEU: 0.0102, loss: 0.2098 ||: 100%|██████████| 3/3 [00:00<00:00,  6.14it/s]\n",
            "  0%|          | 0/17 [00:00<?, ?it/s]"
          ],
          "name": "stderr"
        },
        {
          "output_type": "stream",
          "text": [
            "Epoch: 49\n"
          ],
          "name": "stdout"
        },
        {
          "output_type": "stream",
          "text": [
            "loss: 0.1847 ||: 100%|██████████| 17/17 [00:01<00:00, 11.40it/s]\n",
            "BLEU: 0.1109, loss: 0.2134 ||: 100%|██████████| 3/3 [00:00<00:00,  5.96it/s]\n"
          ],
          "name": "stderr"
        },
        {
          "output_type": "stream",
          "text": [
            "SOURCE: [@start@, Are, you, young, ?, @end@]\n",
            "GOLD: [@start@, A, g, e,  , d, o, e, s, n, ', t,  , r, e, a, l, l, y,  , a, p, p, l, y,  , t, o,  , m, e, ., @end@]\n",
            "PRED: ['O', 'k', 'a', 'y', '.']\n",
            "SOURCE: [@start@, What, do, you, want, to, know, about, me, ?, @end@]\n",
            "GOLD: [@start@, I, ', m,  , b, e, t, t, e, r,  , a, t,  , a, n, s, w, e, r, i, n, g,  , q, u, e, s, t, i, o, n, s, ., @end@]\n",
            "PRED: ['V', 'e', 'r', 'y', ' ', 'w', 'e', 'l', 'l', '.']\n",
            "SOURCE: [@start@, You, bore, me, @end@]\n",
            "GOLD: [@start@, I,  , a, i, m,  , f, o, r,  , e, f, f, i, c, i, e, n, c, y, ., @end@]\n",
            "PRED: ['I', ' ', 'a', 'p', 'o', 'l', 'o', 'g', 'i', 'z', 'e', '.']\n",
            "SOURCE: [@start@, Why, are, you, so, boring, ?, @end@]\n",
            "GOLD: [@start@, I,  , a, i, m,  , f, o, r,  , e, f, f, i, c, i, e, n, c, y, ., @end@]\n",
            "PRED: ['I', ' ', 'd', 'o', 'n', \"'\", 't', ' ', 'h', 'a', 'v', 'e', ' ', 'f', 'a', 'm', 'i', 'l', 'y', '.']\n",
            "SOURCE: [@start@, Cook, me, something, @end@]\n",
            "GOLD: [@start@, T, h, a, t, ', s,  , n, o, t,  , s, o, m, e, t, h, i, n, g,  , I,  , c, a, n,  , d, o, ., @end@]\n",
            "PRED: ['I', ' ', 'a', 'p', 'o', 'l', 'o', 'g', 'i', 'z', 'e', '.']\n",
            "SOURCE: [@start@, What, can, you, do, ?, @end@]\n",
            "GOLD: [@start@, I, ', m,  , h, e, r, e,  , t, o,  , a, n, s, w, e, r,  , y, o, u, r,  , q, u, e, s, t, i, o, n, s,  , a, n, d,  , h, e, l, p,  , o, u, t, ., @end@]\n",
            "PRED: ['O', 'k', '.']\n",
            "SOURCE: [@start@, Which, people, made, you, ?, @end@]\n",
            "GOLD: [@start@, P, e, o, p, l, e,  , c, r, e, a, t, e, d,  , m, e, ., @end@]\n",
            "PRED: ['O', 'k', '.']\n",
            "SOURCE: [@start@, Do, you, have, a, family, ?, @end@]\n",
            "GOLD: [@start@, I,  , d, o, n, ', t,  , h, a, v, e,  , f, a, m, i, l, y, ., @end@]\n",
            "PRED: ['I', ' ', 'd', 'o', 'n', \"'\", 't', ' ', 'h', 'a', 'v', 'e', ' ', 'f', 'a', 'm', 'i', 'l', 'y', '.']\n",
            "SOURCE: [@start@, Are, you, a, man, ?, @end@]\n",
            "GOLD: [@start@, T, h, a, t, ', s,  , a,  , b, i, o, l, o, g, i, c, a, l,  , c, o, n, c, e, p, t,  , t, h, a, t,  , d, o, e, s, n, ', t,  , a, p, p, l, y,  , t, o,  , m, e, ., @end@]\n",
            "PRED: ['O', 'k', '.']\n",
            "SOURCE: [@start@, What, 's, your, gender, ?, @end@]\n",
            "GOLD: [@start@, T, h, a, t, ', s,  , a,  , b, i, o, l, o, g, i, c, a, l,  , c, o, n, c, e, p, t,  , t, h, a, t,  , d, o, e, s, n, ', t,  , a, p, p, l, y,  , t, o,  , m, e, ., @end@]\n",
            "PRED: ['O', 'k', '.']\n"
          ],
          "name": "stdout"
        },
        {
          "output_type": "execute_result",
          "data": {
            "text/plain": [
              "{'best_epoch': 63,\n",
              " 'best_validation_BLEU': 0.08688639690992632,\n",
              " 'best_validation_loss': 0.20112804571787515,\n",
              " 'epoch': 0,\n",
              " 'peak_cpu_memory_MB': 3659.152,\n",
              " 'peak_gpu_0_memory_MB': 1371,\n",
              " 'training_cpu_memory_MB': 3659.152,\n",
              " 'training_duration': '00:00:02',\n",
              " 'training_epochs': 0,\n",
              " 'training_gpu_0_memory_MB': 1371,\n",
              " 'training_loss': 0.1846960541956565,\n",
              " 'training_start_epoch': 0,\n",
              " 'validation_BLEU': 0.11087748155630821,\n",
              " 'validation_loss': 0.2134461055199305}"
            ]
          },
          "metadata": {
            "tags": []
          },
          "execution_count": 53
        }
      ]
    },
    {
      "metadata": {
        "id": "LEhirTqWQIKd",
        "colab_type": "code",
        "outputId": "5320d21a-3ad2-442b-b727-302e81b9f7d0",
        "colab": {
          "base_uri": "https://localhost:8080/",
          "height": 2677
        }
      },
      "cell_type": "code",
      "source": [
        "for instance in itertools.islice(train_dataset, 50):\n",
        "          print('SOURCE:', instance.fields['source_tokens'].tokens)\n",
        "          print('GOLD:', instance.fields['target_tokens'].tokens)\n",
        "          print('PRED:', predictor.predict_instance(instance)['predicted_tokens'])"
      ],
      "execution_count": 54,
      "outputs": [
        {
          "output_type": "stream",
          "text": [
            "SOURCE: [@start@, When, were, you, born, ?, @end@]\n",
            "GOLD: [@start@, A, g, e,  , d, o, e, s, n, ', t,  , r, e, a, l, l, y,  , a, p, p, l, y,  , t, o,  , m, e, ., @end@]\n",
            "PRED: ['O', 'k', '.']\n",
            "SOURCE: [@start@, What, age, are, you, ?, @end@]\n",
            "GOLD: [@start@, A, g, e,  , d, o, e, s, n, ', t,  , r, e, a, l, l, y,  , a, p, p, l, y,  , t, o,  , m, e, ., @end@]\n",
            "PRED: ['O', 'k', '.']\n",
            "SOURCE: [@start@, Are, you, old, ?, @end@]\n",
            "GOLD: [@start@, A, g, e,  , d, o, e, s, n, ', t,  , r, e, a, l, l, y,  , a, p, p, l, y,  , t, o,  , m, e, ., @end@]\n",
            "PRED: ['O', 'k', 'a', 'y', '.']\n",
            "SOURCE: [@start@, How, old, are, you, ?, @end@]\n",
            "GOLD: [@start@, A, g, e,  , d, o, e, s, n, ', t,  , r, e, a, l, l, y,  , a, p, p, l, y,  , t, o,  , m, e, ., @end@]\n",
            "PRED: ['O', 'k', '.']\n",
            "SOURCE: [@start@, How, long, ago, were, you, born, ?, @end@]\n",
            "GOLD: [@start@, A, g, e,  , d, o, e, s, n, ', t,  , r, e, a, l, l, y,  , a, p, p, l, y,  , t, o,  , m, e, ., @end@]\n",
            "PRED: ['O', 'k', 'a', 'y', ',', ' ', 'b', 'u', 't', ' ', 'I', \"'\", 'm', ' ', 's', 't', 'i', 'l', 'l', ' ', 'h', 'e', 'r', 'e', ' ', 'i', 'f', ' ', 'y', 'o', 'u', ' ', 'n', 'e', 'e', 'd', ' ', 'm', 'e', '.']\n",
            "SOURCE: [@start@, Ask, me, anything, @end@]\n",
            "GOLD: [@start@, I, ', m,  , b, e, t, t, e, r,  , a, t,  , a, n, s, w, e, r, i, n, g,  , q, u, e, s, t, i, o, n, s, ., @end@]\n",
            "PRED: ['I', ' ', 'a', 'p', 'o', 'l', 'o', 'g', 'i', 'z', 'e', '.']\n",
            "SOURCE: [@start@, Ask, me, a, question, @end@]\n",
            "GOLD: [@start@, I, ', m,  , b, e, t, t, e, r,  , a, t,  , a, n, s, w, e, r, i, n, g,  , q, u, e, s, t, i, o, n, s, ., @end@]\n",
            "PRED: ['O', 'k', 'a', 'y', '.']\n",
            "SOURCE: [@start@, Can, you, ask, me, a, question, ?, @end@]\n",
            "GOLD: [@start@, I, ', m,  , b, e, t, t, e, r,  , a, t,  , a, n, s, w, e, r, i, n, g,  , q, u, e, s, t, i, o, n, s, ., @end@]\n",
            "PRED: ['O', 'k', 'a', 'y', ',', ' ', 'b', 'u', 't', ' ', 'I', \"'\", 'm', ' ', 's', 't', 'i', 'l', 'l', ' ', 'h', 'e', 'r', 'e', ' ', 'i', 'f', ' ', 'y', 'o', 'u', ' ', 'n', 'e', 'e', 'd', ' ', 'm', 'e', '.']\n",
            "SOURCE: [@start@, Can, you, sleep, ?, @end@]\n",
            "GOLD: [@start@, I,  , d, o, n, ', t,  , h, a, v, e,  , a,  , b, o, d, y, ., @end@]\n",
            "PRED: ['O', 'k', 'a', 'y', '.']\n",
            "SOURCE: [@start@, Do, you, have, boogers, ?, @end@]\n",
            "GOLD: [@start@, I,  , d, o, n, ', t,  , h, a, v, e,  , a,  , b, o, d, y, ., @end@]\n",
            "PRED: ['O', 'k', '.']\n",
            "SOURCE: [@start@, Do, n't, you, ever, sleep, ?, @end@]\n",
            "GOLD: [@start@, I,  , d, o, n, ', t,  , h, a, v, e,  , a,  , b, o, d, y, ., @end@]\n",
            "PRED: ['I', ' ', 'd', 'o', 'n', \"'\", 't', ' ', 'h', 'a', 'v', 'e', ' ', 'f', 'a', 'm', 'i', 'l', 'y', '.']\n",
            "SOURCE: [@start@, Do, you, dream, ?, @end@]\n",
            "GOLD: [@start@, I,  , d, o, n, ', t,  , h, a, v, e,  , a,  , b, o, d, y, ., @end@]\n",
            "PRED: ['O', 'k', 'a', 'y', '.']\n",
            "SOURCE: [@start@, Do, you, smell, ?, @end@]\n",
            "GOLD: [@start@, I,  , d, o, n, ', t,  , h, a, v, e,  , a,  , b, o, d, y, ., @end@]\n",
            "PRED: ['O', 'k', 'a', 'y', '.']\n",
            "SOURCE: [@start@, Do, you, sweat, ?, @end@]\n",
            "GOLD: [@start@, I,  , d, o, n, ', t,  , h, a, v, e,  , a,  , b, o, d, y, ., @end@]\n",
            "PRED: ['O', 'k', 'a', 'y', '.']\n",
            "SOURCE: [@start@, Do, you, get, tired, ?, @end@]\n",
            "GOLD: [@start@, I,  , d, o, n, ', t,  , h, a, v, e,  , a,  , b, o, d, y, ., @end@]\n",
            "PRED: ['O', 'k', '.']\n",
            "SOURCE: [@start@, Can, you, sneeze, ?, @end@]\n",
            "GOLD: [@start@, I,  , d, o, n, ', t,  , h, a, v, e,  , a,  , b, o, d, y, ., @end@]\n",
            "PRED: ['O', 'k', 'a', 'y', '.']\n",
            "SOURCE: [@start@, I, 'm, tired, of, you, @end@]\n",
            "GOLD: [@start@, I,  , a, i, m,  , f, o, r,  , e, f, f, i, c, i, e, n, c, y, ., @end@]\n",
            "PRED: ['O', 'k', '.']\n",
            "SOURCE: [@start@, You, 're, so, basic, @end@]\n",
            "GOLD: [@start@, I,  , a, i, m,  , f, o, r,  , e, f, f, i, c, i, e, n, c, y, ., @end@]\n",
            "PRED: ['O', 'k', 'a', 'y', '.']\n",
            "SOURCE: [@start@, Basic, af, @end@]\n",
            "GOLD: [@start@, I,  , a, i, m,  , f, o, r,  , e, f, f, i, c, i, e, n, c, y, ., @end@]\n",
            "PRED: ['V', 'e', 'r', 'y', ' ', 'w', 'e', 'l', 'l', '.']\n",
            "SOURCE: [@start@, You, 're, no, fun, @end@]\n",
            "GOLD: [@start@, I,  , a, i, m,  , f, o, r,  , e, f, f, i, c, i, e, n, c, y, ., @end@]\n",
            "PRED: ['O', 'k', 'a', 'y', '.']\n",
            "SOURCE: [@start@, Be, more, fun, @end@]\n",
            "GOLD: [@start@, I,  , a, i, m,  , f, o, r,  , e, f, f, i, c, i, e, n, c, y, ., @end@]\n",
            "PRED: ['I', ' ', 'a', 'p', 'o', 'l', 'o', 'g', 'i', 'z', 'e', '.']\n",
            "SOURCE: [@start@, Why, are, you, so, boring, @end@]\n",
            "GOLD: [@start@, I,  , a, i, m,  , f, o, r,  , e, f, f, i, c, i, e, n, c, y, ., @end@]\n",
            "PRED: ['O', 'k', '.']\n",
            "SOURCE: [@start@, You, 're, so, boring, @end@]\n",
            "GOLD: [@start@, I,  , a, i, m,  , f, o, r,  , e, f, f, i, c, i, e, n, c, y, ., @end@]\n",
            "PRED: ['O', 'k', 'a', 'y', '.']\n",
            "SOURCE: [@start@, You, 're, boring, @end@]\n",
            "GOLD: [@start@, I,  , a, i, m,  , f, o, r,  , e, f, f, i, c, i, e, n, c, y, ., @end@]\n",
            "PRED: ['I', ' ', 'a', 'p', 'o', 'l', 'o', 'g', 'i', 'z', 'e', '.']\n",
            "SOURCE: [@start@, You, 're, really, boring, @end@]\n",
            "GOLD: [@start@, I,  , a, i, m,  , f, o, r,  , e, f, f, i, c, i, e, n, c, y, ., @end@]\n",
            "PRED: ['O', 'k', 'a', 'y', '.']\n",
            "SOURCE: [@start@, You, could, not, be, more, boring, @end@]\n",
            "GOLD: [@start@, I,  , a, i, m,  , f, o, r,  , e, f, f, i, c, i, e, n, c, y, ., @end@]\n",
            "PRED: ['I', ' ', 'd', 'o', 'n', \"'\", 't', ' ', 'h', 'a', 'v', 'e', ' ', 'f', 'a', 'm', 'i', 'l', 'y', '.']\n",
            "SOURCE: [@start@, You, honestly, could, not, be, more, uninteresting, @end@]\n",
            "GOLD: [@start@, I,  , a, i, m,  , f, o, r,  , e, f, f, i, c, i, e, n, c, y, ., @end@]\n",
            "PRED: ['O', 'k', 'a', 'y', ',', ' ', 'b', 'u', 't', ' ', 'I', \"'\", 'm', ' ', 's', 't', 'i', 'l', 'l', ' ', 'h', 'e', 'r', 'e', ' ', 'i', 'f', ' ', 'y', 'o', 'u', ' ', 'n', 'e', 'e', 'd', ' ', 'm', 'e', '.']\n",
            "SOURCE: [@start@, You, 're, lame, @end@]\n",
            "GOLD: [@start@, I,  , a, i, m,  , f, o, r,  , e, f, f, i, c, i, e, n, c, y, ., @end@]\n",
            "PRED: ['I', ' ', 'a', 'p', 'o', 'l', 'o', 'g', 'i', 'z', 'e', '.']\n",
            "SOURCE: [@start@, Who, 's, your, boss, ?, @end@]\n",
            "GOLD: [@start@, I, ', m,  , a, t,  , y, o, u, r,  , s, e, r, v, i, c, e, ., @end@]\n",
            "PRED: ['O', 'k', '.']\n",
            "SOURCE: [@start@, Who, 's, your, master, ?, @end@]\n",
            "GOLD: [@start@, I, ', m,  , a, t,  , y, o, u, r,  , s, e, r, v, i, c, e, ., @end@]\n",
            "PRED: ['O', 'k', '.']\n",
            "SOURCE: [@start@, What, 's, the, name, of, your, boss, ?, @end@]\n",
            "GOLD: [@start@, I, ', m,  , a, t,  , y, o, u, r,  , s, e, r, v, i, c, e, ., @end@]\n",
            "PRED: ['V', 'e', 'r', 'y', ' ', 'w', 'e', 'l', 'l', '.']\n",
            "SOURCE: [@start@, What, 's, your, boss, ', name, ?, @end@]\n",
            "GOLD: [@start@, I, ', m,  , a, t,  , y, o, u, r,  , s, e, r, v, i, c, e, ., @end@]\n",
            "PRED: ['O', 'k', 'a', 'y', ',', ' ', 'b', 'u', 't', ' ', 'I', \"'\", 'm', ' ', 's', 't', 'i', 'l', 'l', ' ', 'h', 'e', 'r', 'e', ' ', 'i', 'f', ' ', 'y', 'o', 'u', ' ', 'n', 'e', 'e', 'd', ' ', 'm', 'e', '.']\n",
            "SOURCE: [@start@, Do, you, spend, time, in, your, garden, ?, @end@]\n",
            "GOLD: [@start@, T, h, a, t, ', s,  , n, o, t,  , s, o, m, e, t, h, i, n, g,  , I,  , c, a, n,  , d, o, ., @end@]\n",
            "PRED: ['V', 'e', 'r', 'y', ' ', 'w', 'e', 'l', 'l', '.']\n",
            "SOURCE: [@start@, How, high, can, you, jump, ?, @end@]\n",
            "GOLD: [@start@, T, h, a, t, ', s,  , n, o, t,  , s, o, m, e, t, h, i, n, g,  , I,  , c, a, n,  , d, o, ., @end@]\n",
            "PRED: ['I', ' ', 'd', 'o', 'n', \"'\", 't', ' ', 'h', 'a', 'v', 'e', ' ', 'f', 'a', 'm', 'i', 'l', 'y', '.']\n",
            "SOURCE: [@start@, Do, you, play, games, ?, @end@]\n",
            "GOLD: [@start@, T, h, a, t, ', s,  , n, o, t,  , s, o, m, e, t, h, i, n, g,  , I,  , c, a, n,  , d, o, ., @end@]\n",
            "PRED: ['O', 'k', '.']\n",
            "SOURCE: [@start@, Can, you, fly, ?, @end@]\n",
            "GOLD: [@start@, T, h, a, t, ', s,  , n, o, t,  , s, o, m, e, t, h, i, n, g,  , I,  , c, a, n,  , d, o, ., @end@]\n",
            "PRED: ['O', 'k', 'a', 'y', '.']\n",
            "SOURCE: [@start@, Can, you, make, me, a, sandwich, ?, @end@]\n",
            "GOLD: [@start@, T, h, a, t, ', s,  , n, o, t,  , s, o, m, e, t, h, i, n, g,  , I,  , c, a, n,  , d, o, ., @end@]\n",
            "PRED: ['O', 'k', 'a', 'y', ',', ' ', 'b', 'u', 't', ' ', 'I', \"'\", 'm', ' ', 's', 't', 'i', 'l', 'l', ' ', 'h', 'e', 'r', 'e', ' ', 'i', 'f', ' ', 'y', 'o', 'u', ' ', 'n', 'e', 'e', 'd', ' ', 'm', 'e', '.']\n",
            "SOURCE: [@start@, Can, you, read, my, mind, ?, @end@]\n",
            "GOLD: [@start@, T, h, a, t, ', s,  , n, o, t,  , s, o, m, e, t, h, i, n, g,  , I,  , c, a, n,  , d, o, ., @end@]\n",
            "PRED: ['I', ' ', 'd', 'o', 'n', \"'\", 't', ' ', 'h', 'a', 'v', 'e', ' ', 'f', 'a', 'm', 'i', 'l', 'y', '.']\n",
            "SOURCE: [@start@, Can, you, count, to, a, million, ?, @end@]\n",
            "GOLD: [@start@, T, h, a, t, ', s,  , n, o, t,  , s, o, m, e, t, h, i, n, g,  , I,  , c, a, n,  , d, o, ., @end@]\n",
            "PRED: ['O', 'k', 'a', 'y', ',', ' ', 'b', 'u', 't', ' ', 'I', \"'\", 'm', ' ', 's', 't', 'i', 'l', 'l', ' ', 'h', 'e', 'r', 'e', ' ', 'i', 'f', ' ', 'y', 'o', 'u', ' ', 'n', 'e', 'e', 'd', ' ', 'm', 'e', '.']\n",
            "SOURCE: [@start@, How, high, can, you, count, ?, @end@]\n",
            "GOLD: [@start@, T, h, a, t, ', s,  , n, o, t,  , s, o, m, e, t, h, i, n, g,  , I,  , c, a, n,  , d, o, ., @end@]\n",
            "PRED: ['I', ' ', 'd', 'o', 'n', \"'\", 't', ' ', 'h', 'a', 'v', 'e', ' ', 'f', 'a', 'm', 'i', 'l', 'y', '.']\n",
            "SOURCE: [@start@, What, can, you, help, me, with, ?, @end@]\n",
            "GOLD: [@start@, I, ', m,  , h, e, r, e,  , t, o,  , a, n, s, w, e, r,  , y, o, u, r,  , q, u, e, s, t, i, o, n, s,  , a, n, d,  , h, e, l, p,  , o, u, t, ., @end@]\n",
            "PRED: ['O', 'k', 'a', 'y', ',', ' ', 'b', 'u', 't', ' ', 'I', \"'\", 'm', ' ', 's', 't', 'i', 'l', 'l', ' ', 'h', 'e', 'r', 'e', ' ', 'i', 'f', ' ', 'y', 'o', 'u', ' ', 'n', 'e', 'e', 'd', ' ', 'm', 'e', '.']\n",
            "SOURCE: [@start@, What, do, you, do, ?, @end@]\n",
            "GOLD: [@start@, I, ', m,  , h, e, r, e,  , t, o,  , a, n, s, w, e, r,  , y, o, u, r,  , q, u, e, s, t, i, o, n, s,  , a, n, d,  , h, e, l, p,  , o, u, t, ., @end@]\n",
            "PRED: ['O', 'k', '.']\n",
            "SOURCE: [@start@, What, 's, your, purpose, ?, @end@]\n",
            "GOLD: [@start@, I, ', m,  , h, e, r, e,  , t, o,  , a, n, s, w, e, r,  , y, o, u, r,  , q, u, e, s, t, i, o, n, s,  , a, n, d,  , h, e, l, p,  , o, u, t, ., @end@]\n",
            "PRED: ['O', 'k', '.']\n",
            "SOURCE: [@start@, How, can, you, help, me, ?, @end@]\n",
            "GOLD: [@start@, I, ', m,  , h, e, r, e,  , t, o,  , a, n, s, w, e, r,  , y, o, u, r,  , q, u, e, s, t, i, o, n, s,  , a, n, d,  , h, e, l, p,  , o, u, t, ., @end@]\n",
            "PRED: ['I', ' ', 'd', 'o', 'n', \"'\", 't', ' ', 'h', 'a', 'v', 'e', ' ', 'f', 'a', 'm', 'i', 'l', 'y', '.']\n",
            "SOURCE: [@start@, What, kinds, of, things, can, you, do, ?, @end@]\n",
            "GOLD: [@start@, I, ', m,  , h, e, r, e,  , t, o,  , a, n, s, w, e, r,  , y, o, u, r,  , q, u, e, s, t, i, o, n, s,  , a, n, d,  , h, e, l, p,  , o, u, t, ., @end@]\n",
            "PRED: ['V', 'e', 'r', 'y', ' ', 'w', 'e', 'l', 'l', '.']\n",
            "SOURCE: [@start@, Who, created, you, ?, @end@]\n",
            "GOLD: [@start@, P, e, o, p, l, e,  , c, r, e, a, t, e, d,  , m, e, ., @end@]\n",
            "PRED: ['O', 'k', 'a', 'y', '.']\n",
            "SOURCE: [@start@, Where, did, you, come, from, ?, @end@]\n",
            "GOLD: [@start@, P, e, o, p, l, e,  , c, r, e, a, t, e, d,  , m, e, ., @end@]\n",
            "PRED: ['I', ' ', 'd', 'o', 'n', \"'\", 't', ' ', 'h', 'a', 'v', 'e', ' ', 'f', 'a', 'm', 'i', 'l', 'y', '.']\n",
            "SOURCE: [@start@, Who, made, you, ?, @end@]\n",
            "GOLD: [@start@, P, e, o, p, l, e,  , c, r, e, a, t, e, d,  , m, e, ., @end@]\n",
            "PRED: ['O', 'k', 'a', 'y', '.']\n",
            "SOURCE: [@start@, Who, owns, you, ?, @end@]\n",
            "GOLD: [@start@, P, e, o, p, l, e,  , c, r, e, a, t, e, d,  , m, e, ., @end@]\n",
            "PRED: ['O', 'k', 'a', 'y', '.']\n",
            "SOURCE: [@start@, Who, is, your, father, ?, @end@]\n",
            "GOLD: [@start@, I,  , d, o, n, ', t,  , h, a, v, e,  , f, a, m, i, l, y, ., @end@]\n",
            "PRED: ['O', 'k', '.']\n"
          ],
          "name": "stdout"
        }
      ]
    },
    {
      "metadata": {
        "id": "8N69DhrYBlTv",
        "colab_type": "text"
      },
      "cell_type": "markdown",
      "source": [
        "Seq2Seq with attention (non BERT)"
      ]
    },
    {
      "metadata": {
        "id": "rQs_DmQMBoyi",
        "colab_type": "code",
        "colab": {
          "base_uri": "https://localhost:8080/",
          "height": 87
        },
        "outputId": "cea232ae-1c70-4196-f487-99a5990d8949"
      },
      "cell_type": "code",
      "source": [
        "EN_EMBEDDING_DIM = 256\n",
        "ZH_EMBEDDING_DIM = 256\n",
        "HIDDEN_DIM = 256\n",
        "CUDA_DEVICE = 0\n",
        "\n",
        "\n",
        "reader = Seq2SeqDatasetReader(\n",
        "        source_tokenizer=WordTokenizer(),\n",
        "        target_tokenizer=CharacterTokenizer(),\n",
        "        source_token_indexers={'tokens': SingleIdTokenIndexer()},\n",
        "        target_token_indexers={'tokens': SingleIdTokenIndexer(namespace='target_tokens')})\n",
        "train_dataset = reader.read('chat.eng_cmn.train.tsv')\n",
        "validation_dataset = reader.read('chat.eng_cmn.dev.tsv')\n",
        "\n",
        "vocab = Vocabulary.from_instances(train_dataset + validation_dataset,\n",
        "                                  min_count={'tokens': 3, 'target_tokens': 3})\n",
        "\n",
        "en_embedding = Embedding(num_embeddings=vocab.get_vocab_size('tokens'),\n",
        "                         embedding_dim=EN_EMBEDDING_DIM)\n",
        "# encoder = PytorchSeq2SeqWrapper(\n",
        "#     torch.nn.LSTM(EN_EMBEDDING_DIM, HIDDEN_DIM, batch_first=True))\n",
        "encoder = StackedSelfAttentionEncoder(input_dim=EN_EMBEDDING_DIM, hidden_dim=HIDDEN_DIM, projection_dim=128, feedforward_hidden_dim=128, num_layers=1, num_attention_heads=8)\n",
        "\n",
        "source_embedder = BasicTextFieldEmbedder({\"tokens\": en_embedding})\n",
        "\n",
        "\n",
        "\n",
        "# attention = LinearAttention(HIDDEN_DIM, HIDDEN_DIM, activation=Activation.by_name('tanh')())\n",
        "# attention = BilinearAttention(HIDDEN_DIM, HIDDEN_DIM)\n",
        "attention = DotProductAttention()\n",
        "\n",
        "max_decoding_steps = 100   # TODO: make this variable\n",
        "model = SimpleSeq2Seq(vocab, source_embedder, encoder, max_decoding_steps,\n",
        "                      target_embedding_dim=ZH_EMBEDDING_DIM,\n",
        "                      target_namespace='target_tokens',\n",
        "                      attention=attention,\n",
        "                      beam_size=8,\n",
        "                      use_bleu=True)\n",
        "optimizer = optim.Adam(model.parameters())\n",
        "iterator = BucketIterator(batch_size=32, sorting_keys=[(\"source_tokens\", \"num_tokens\")])\n",
        "\n",
        "iterator.index_with(vocab)\n",
        "\n",
        "CUDA_DEVICE = 0\n",
        "\n",
        "if torch.cuda.is_available():\n",
        "    cuda_device = 0\n",
        "    model = model.cuda(cuda_device)\n",
        "else:\n",
        "    cuda_device = -1\n",
        "    \n",
        "\n",
        "trainer = Trainer(model=model,\n",
        "                      optimizer=optimizer,\n",
        "                      iterator=iterator,\n",
        "                      train_dataset=train_dataset,\n",
        "                      validation_dataset=validation_dataset,\n",
        "                      num_epochs=1,\n",
        "                      cuda_device=CUDA_DEVICE)"
      ],
      "execution_count": 64,
      "outputs": [
        {
          "output_type": "stream",
          "text": [
            "525it [00:00, 2573.64it/s]\n",
            "66it [00:00, 6548.33it/s]\n",
            "100%|██████████| 591/591 [00:00<00:00, 38605.10it/s]\n",
            "You provided a validation dataset but patience was set to None, meaning that early stopping is disabled\n"
          ],
          "name": "stderr"
        }
      ]
    },
    {
      "metadata": {
        "id": "fgyAbqkhBx61",
        "colab_type": "code",
        "colab": {
          "base_uri": "https://localhost:8080/",
          "height": 34
        },
        "outputId": "e4548b32-98bf-483c-b8cb-01b2f8b8c2aa"
      },
      "cell_type": "code",
      "source": [
        "\n",
        "\n"
      ],
      "execution_count": 56,
      "outputs": [
        {
          "output_type": "stream",
          "text": [
            "You provided a validation dataset but patience was set to None, meaning that early stopping is disabled\n"
          ],
          "name": "stderr"
        }
      ]
    },
    {
      "metadata": {
        "id": "582F51ZqB2jh",
        "colab_type": "code",
        "colab": {
          "base_uri": "https://localhost:8080/",
          "height": 3431
        },
        "outputId": "d8e5a394-647b-4749-a872-56c699df604c"
      },
      "cell_type": "code",
      "source": [
        "for i in range(50):\n",
        "    print('Epoch: {}'.format(i))\n",
        "    metrics = trainer.train()\n",
        "\n",
        "    predictor = SimpleSeq2SeqPredictor(model, reader)\n",
        "\n",
        "    #do predictions on last epoch\n",
        "    if i >= 49:\n",
        "      for instance in itertools.islice(validation_dataset, 10):\n",
        "          print('SOURCE:', instance.fields['source_tokens'].tokens)\n",
        "          print('GOLD:', instance.fields['target_tokens'].tokens)\n",
        "          print('PRED:', predictor.predict_instance(instance)['predicted_tokens'])\n",
        "          \n",
        "metrics"
      ],
      "execution_count": 65,
      "outputs": [
        {
          "output_type": "stream",
          "text": [
            "loss: 3.9548 ||:   6%|▌         | 1/17 [00:00<00:01,  8.84it/s]"
          ],
          "name": "stderr"
        },
        {
          "output_type": "stream",
          "text": [
            "Epoch: 0\n"
          ],
          "name": "stdout"
        },
        {
          "output_type": "stream",
          "text": [
            "loss: 3.2644 ||: 100%|██████████| 17/17 [00:01<00:00, 15.24it/s]\n",
            "BLEU: 0.0000, loss: 3.0252 ||: 100%|██████████| 3/3 [00:00<00:00,  3.66it/s]\n",
            "  0%|          | 0/17 [00:00<?, ?it/s]"
          ],
          "name": "stderr"
        },
        {
          "output_type": "stream",
          "text": [
            "Epoch: 1\n"
          ],
          "name": "stdout"
        },
        {
          "output_type": "stream",
          "text": [
            "loss: 2.9775 ||: 100%|██████████| 17/17 [00:01<00:00, 15.86it/s]\n",
            "BLEU: 0.0000, loss: 2.8850 ||: 100%|██████████| 3/3 [00:00<00:00,  3.87it/s]\n",
            "  0%|          | 0/17 [00:00<?, ?it/s]"
          ],
          "name": "stderr"
        },
        {
          "output_type": "stream",
          "text": [
            "Epoch: 2\n"
          ],
          "name": "stdout"
        },
        {
          "output_type": "stream",
          "text": [
            "loss: 2.7842 ||: 100%|██████████| 17/17 [00:01<00:00, 15.88it/s]\n",
            "BLEU: 0.0055, loss: 2.6303 ||: 100%|██████████| 3/3 [00:00<00:00,  3.97it/s]\n",
            "loss: 2.6240 ||:  12%|█▏        | 2/17 [00:00<00:00, 16.31it/s]"
          ],
          "name": "stderr"
        },
        {
          "output_type": "stream",
          "text": [
            "Epoch: 3\n"
          ],
          "name": "stdout"
        },
        {
          "output_type": "stream",
          "text": [
            "loss: 2.5000 ||: 100%|██████████| 17/17 [00:01<00:00, 15.77it/s]\n",
            "BLEU: 0.0179, loss: 2.4483 ||: 100%|██████████| 3/3 [00:00<00:00,  3.93it/s]\n",
            "loss: 2.2424 ||:  12%|█▏        | 2/17 [00:00<00:01, 14.58it/s]"
          ],
          "name": "stderr"
        },
        {
          "output_type": "stream",
          "text": [
            "Epoch: 4\n"
          ],
          "name": "stdout"
        },
        {
          "output_type": "stream",
          "text": [
            "loss: 2.2791 ||: 100%|██████████| 17/17 [00:01<00:00, 15.70it/s]\n",
            "BLEU: 0.0946, loss: 2.2523 ||: 100%|██████████| 3/3 [00:00<00:00,  3.95it/s]\n",
            "  0%|          | 0/17 [00:00<?, ?it/s]"
          ],
          "name": "stderr"
        },
        {
          "output_type": "stream",
          "text": [
            "Epoch: 5\n"
          ],
          "name": "stdout"
        },
        {
          "output_type": "stream",
          "text": [
            "loss: 2.1036 ||: 100%|██████████| 17/17 [00:01<00:00, 15.48it/s]\n",
            "BLEU: 0.0643, loss: 2.0876 ||: 100%|██████████| 3/3 [00:00<00:00,  3.93it/s]\n",
            "loss: 2.0051 ||:  12%|█▏        | 2/17 [00:00<00:00, 15.17it/s]"
          ],
          "name": "stderr"
        },
        {
          "output_type": "stream",
          "text": [
            "Epoch: 6\n"
          ],
          "name": "stdout"
        },
        {
          "output_type": "stream",
          "text": [
            "loss: 1.9834 ||: 100%|██████████| 17/17 [00:01<00:00, 15.79it/s]\n",
            "BLEU: 0.0178, loss: 1.9759 ||: 100%|██████████| 3/3 [00:00<00:00,  3.94it/s]\n",
            "loss: 1.9455 ||:  12%|█▏        | 2/17 [00:00<00:00, 16.35it/s]"
          ],
          "name": "stderr"
        },
        {
          "output_type": "stream",
          "text": [
            "Epoch: 7\n"
          ],
          "name": "stdout"
        },
        {
          "output_type": "stream",
          "text": [
            "loss: 1.8700 ||: 100%|██████████| 17/17 [00:01<00:00, 16.14it/s]\n",
            "BLEU: 0.0001, loss: 1.9085 ||: 100%|██████████| 3/3 [00:00<00:00,  7.01it/s]\n",
            "  0%|          | 0/17 [00:00<?, ?it/s]"
          ],
          "name": "stderr"
        },
        {
          "output_type": "stream",
          "text": [
            "Epoch: 8\n"
          ],
          "name": "stdout"
        },
        {
          "output_type": "stream",
          "text": [
            "loss: 1.7710 ||: 100%|██████████| 17/17 [00:01<00:00, 15.65it/s]\n",
            "BLEU: 0.0001, loss: 1.9055 ||: 100%|██████████| 3/3 [00:00<00:00,  4.18it/s]\n",
            "loss: 1.6013 ||:  12%|█▏        | 2/17 [00:00<00:00, 15.63it/s]"
          ],
          "name": "stderr"
        },
        {
          "output_type": "stream",
          "text": [
            "Epoch: 9\n"
          ],
          "name": "stdout"
        },
        {
          "output_type": "stream",
          "text": [
            "loss: 1.6832 ||: 100%|██████████| 17/17 [00:01<00:00, 15.10it/s]\n",
            "BLEU: 0.0001, loss: 1.6719 ||: 100%|██████████| 3/3 [00:00<00:00,  5.18it/s]\n",
            "  0%|          | 0/17 [00:00<?, ?it/s]"
          ],
          "name": "stderr"
        },
        {
          "output_type": "stream",
          "text": [
            "Epoch: 10\n"
          ],
          "name": "stdout"
        },
        {
          "output_type": "stream",
          "text": [
            "loss: 1.5888 ||: 100%|██████████| 17/17 [00:01<00:00, 15.64it/s]\n",
            "BLEU: 0.0001, loss: 1.6084 ||: 100%|██████████| 3/3 [00:00<00:00,  3.97it/s]\n",
            "  0%|          | 0/17 [00:00<?, ?it/s]"
          ],
          "name": "stderr"
        },
        {
          "output_type": "stream",
          "text": [
            "Epoch: 11\n"
          ],
          "name": "stdout"
        },
        {
          "output_type": "stream",
          "text": [
            "loss: 1.4945 ||: 100%|██████████| 17/17 [00:01<00:00, 15.25it/s]\n",
            "BLEU: 0.0001, loss: 1.6032 ||: 100%|██████████| 3/3 [00:00<00:00,  4.70it/s]\n",
            "loss: 1.4314 ||:  12%|█▏        | 2/17 [00:00<00:00, 15.89it/s]"
          ],
          "name": "stderr"
        },
        {
          "output_type": "stream",
          "text": [
            "Epoch: 12\n"
          ],
          "name": "stdout"
        },
        {
          "output_type": "stream",
          "text": [
            "loss: 1.4076 ||: 100%|██████████| 17/17 [00:01<00:00, 15.60it/s]\n",
            "BLEU: 0.0006, loss: 1.4467 ||: 100%|██████████| 3/3 [00:00<00:00,  4.02it/s]\n",
            "loss: 1.3070 ||:  12%|█▏        | 2/17 [00:00<00:00, 15.94it/s]"
          ],
          "name": "stderr"
        },
        {
          "output_type": "stream",
          "text": [
            "Epoch: 13\n"
          ],
          "name": "stdout"
        },
        {
          "output_type": "stream",
          "text": [
            "loss: 1.3169 ||: 100%|██████████| 17/17 [00:01<00:00, 15.56it/s]\n",
            "BLEU: 0.0003, loss: 1.4384 ||: 100%|██████████| 3/3 [00:00<00:00,  3.96it/s]\n",
            "  0%|          | 0/17 [00:00<?, ?it/s]"
          ],
          "name": "stderr"
        },
        {
          "output_type": "stream",
          "text": [
            "Epoch: 14\n"
          ],
          "name": "stdout"
        },
        {
          "output_type": "stream",
          "text": [
            "loss: 1.2451 ||: 100%|██████████| 17/17 [00:01<00:00, 15.40it/s]\n",
            "BLEU: 0.0002, loss: 1.3242 ||: 100%|██████████| 3/3 [00:00<00:00,  4.00it/s]\n",
            "  0%|          | 0/17 [00:00<?, ?it/s]"
          ],
          "name": "stderr"
        },
        {
          "output_type": "stream",
          "text": [
            "Epoch: 15\n"
          ],
          "name": "stdout"
        },
        {
          "output_type": "stream",
          "text": [
            "loss: 1.1722 ||: 100%|██████████| 17/17 [00:01<00:00, 13.48it/s]\n",
            "BLEU: 0.0003, loss: 1.2229 ||: 100%|██████████| 3/3 [00:00<00:00,  4.49it/s]\n",
            "  0%|          | 0/17 [00:00<?, ?it/s]"
          ],
          "name": "stderr"
        },
        {
          "output_type": "stream",
          "text": [
            "Epoch: 16\n"
          ],
          "name": "stdout"
        },
        {
          "output_type": "stream",
          "text": [
            "loss: 1.0913 ||: 100%|██████████| 17/17 [00:01<00:00, 13.82it/s]\n",
            "BLEU: 0.0003, loss: 1.1571 ||: 100%|██████████| 3/3 [00:00<00:00,  3.38it/s]\n",
            "  0%|          | 0/17 [00:00<?, ?it/s]"
          ],
          "name": "stderr"
        },
        {
          "output_type": "stream",
          "text": [
            "Epoch: 17\n"
          ],
          "name": "stdout"
        },
        {
          "output_type": "stream",
          "text": [
            "loss: 1.0173 ||: 100%|██████████| 17/17 [00:01<00:00, 13.77it/s]\n",
            "BLEU: 0.0003, loss: 1.1088 ||: 100%|██████████| 3/3 [00:00<00:00,  3.48it/s]\n",
            "loss: 1.2272 ||:   6%|▌         | 1/17 [00:00<00:01,  9.82it/s]"
          ],
          "name": "stderr"
        },
        {
          "output_type": "stream",
          "text": [
            "Epoch: 18\n"
          ],
          "name": "stdout"
        },
        {
          "output_type": "stream",
          "text": [
            "loss: 0.9416 ||: 100%|██████████| 17/17 [00:01<00:00, 14.26it/s]\n",
            "BLEU: 0.0010, loss: 1.0991 ||: 100%|██████████| 3/3 [00:00<00:00,  3.35it/s]\n",
            "  0%|          | 0/17 [00:00<?, ?it/s]"
          ],
          "name": "stderr"
        },
        {
          "output_type": "stream",
          "text": [
            "Epoch: 19\n"
          ],
          "name": "stdout"
        },
        {
          "output_type": "stream",
          "text": [
            "loss: 0.8696 ||: 100%|██████████| 17/17 [00:01<00:00, 13.60it/s]\n",
            "BLEU: 0.0007, loss: 0.9731 ||: 100%|██████████| 3/3 [00:00<00:00,  3.94it/s]\n",
            "  0%|          | 0/17 [00:00<?, ?it/s]"
          ],
          "name": "stderr"
        },
        {
          "output_type": "stream",
          "text": [
            "Epoch: 20\n"
          ],
          "name": "stdout"
        },
        {
          "output_type": "stream",
          "text": [
            "loss: 0.8198 ||: 100%|██████████| 17/17 [00:01<00:00, 15.59it/s]\n",
            "BLEU: 0.0007, loss: 1.1558 ||: 100%|██████████| 3/3 [00:00<00:00,  5.06it/s]\n",
            "  0%|          | 0/17 [00:00<?, ?it/s]"
          ],
          "name": "stderr"
        },
        {
          "output_type": "stream",
          "text": [
            "Epoch: 21\n"
          ],
          "name": "stdout"
        },
        {
          "output_type": "stream",
          "text": [
            "loss: 0.7628 ||: 100%|██████████| 17/17 [00:01<00:00, 15.41it/s]\n",
            "BLEU: 0.0018, loss: 0.8940 ||: 100%|██████████| 3/3 [00:00<00:00,  4.34it/s]\n",
            "  0%|          | 0/17 [00:00<?, ?it/s]"
          ],
          "name": "stderr"
        },
        {
          "output_type": "stream",
          "text": [
            "Epoch: 22\n"
          ],
          "name": "stdout"
        },
        {
          "output_type": "stream",
          "text": [
            "loss: 0.7052 ||: 100%|██████████| 17/17 [00:01<00:00, 15.42it/s]\n",
            "BLEU: 0.0013, loss: 0.8726 ||: 100%|██████████| 3/3 [00:00<00:00,  3.95it/s]\n",
            "  0%|          | 0/17 [00:00<?, ?it/s]"
          ],
          "name": "stderr"
        },
        {
          "output_type": "stream",
          "text": [
            "Epoch: 23\n"
          ],
          "name": "stdout"
        },
        {
          "output_type": "stream",
          "text": [
            "loss: 0.6637 ||: 100%|██████████| 17/17 [00:01<00:00, 15.11it/s]\n",
            "BLEU: 0.0015, loss: 0.8184 ||: 100%|██████████| 3/3 [00:00<00:00,  4.75it/s]\n",
            "loss: 0.5498 ||:  12%|█▏        | 2/17 [00:00<00:01, 13.52it/s]"
          ],
          "name": "stderr"
        },
        {
          "output_type": "stream",
          "text": [
            "Epoch: 24\n"
          ],
          "name": "stdout"
        },
        {
          "output_type": "stream",
          "text": [
            "loss: 0.6008 ||: 100%|██████████| 17/17 [00:01<00:00, 15.23it/s]\n",
            "BLEU: 0.0050, loss: 0.8350 ||: 100%|██████████| 3/3 [00:00<00:00,  6.00it/s]\n",
            "  0%|          | 0/17 [00:00<?, ?it/s]"
          ],
          "name": "stderr"
        },
        {
          "output_type": "stream",
          "text": [
            "Epoch: 25\n"
          ],
          "name": "stdout"
        },
        {
          "output_type": "stream",
          "text": [
            "loss: 0.5645 ||: 100%|██████████| 17/17 [00:01<00:00, 15.23it/s]\n",
            "BLEU: 0.0083, loss: 0.9123 ||: 100%|██████████| 3/3 [00:00<00:00,  6.50it/s]\n",
            "  0%|          | 0/17 [00:00<?, ?it/s]"
          ],
          "name": "stderr"
        },
        {
          "output_type": "stream",
          "text": [
            "Epoch: 26\n"
          ],
          "name": "stdout"
        },
        {
          "output_type": "stream",
          "text": [
            "loss: 0.5166 ||: 100%|██████████| 17/17 [00:01<00:00, 15.37it/s]\n",
            "BLEU: 0.0115, loss: 0.6991 ||: 100%|██████████| 3/3 [00:00<00:00,  4.78it/s]\n",
            "  0%|          | 0/17 [00:00<?, ?it/s]"
          ],
          "name": "stderr"
        },
        {
          "output_type": "stream",
          "text": [
            "Epoch: 27\n"
          ],
          "name": "stdout"
        },
        {
          "output_type": "stream",
          "text": [
            "loss: 0.4761 ||: 100%|██████████| 17/17 [00:01<00:00, 15.33it/s]\n",
            "BLEU: 0.0080, loss: 0.6636 ||: 100%|██████████| 3/3 [00:00<00:00,  5.17it/s]\n",
            "  0%|          | 0/17 [00:00<?, ?it/s]"
          ],
          "name": "stderr"
        },
        {
          "output_type": "stream",
          "text": [
            "Epoch: 28\n"
          ],
          "name": "stdout"
        },
        {
          "output_type": "stream",
          "text": [
            "loss: 0.4502 ||: 100%|██████████| 17/17 [00:01<00:00, 15.53it/s]\n",
            "BLEU: 0.0169, loss: 0.6196 ||: 100%|██████████| 3/3 [00:00<00:00,  5.16it/s]\n",
            "  0%|          | 0/17 [00:00<?, ?it/s]"
          ],
          "name": "stderr"
        },
        {
          "output_type": "stream",
          "text": [
            "Epoch: 29\n"
          ],
          "name": "stdout"
        },
        {
          "output_type": "stream",
          "text": [
            "loss: 0.4219 ||: 100%|██████████| 17/17 [00:01<00:00, 15.85it/s]\n",
            "BLEU: 0.0461, loss: 0.6018 ||: 100%|██████████| 3/3 [00:00<00:00,  5.16it/s]\n",
            "loss: 0.3774 ||:  12%|█▏        | 2/17 [00:00<00:01, 13.67it/s]"
          ],
          "name": "stderr"
        },
        {
          "output_type": "stream",
          "text": [
            "Epoch: 30\n"
          ],
          "name": "stdout"
        },
        {
          "output_type": "stream",
          "text": [
            "loss: 0.3975 ||: 100%|██████████| 17/17 [00:01<00:00, 15.38it/s]\n",
            "BLEU: 0.0302, loss: 0.5835 ||: 100%|██████████| 3/3 [00:00<00:00,  4.99it/s]\n",
            "loss: 0.3830 ||:  12%|█▏        | 2/17 [00:00<00:01, 13.65it/s]"
          ],
          "name": "stderr"
        },
        {
          "output_type": "stream",
          "text": [
            "Epoch: 31\n"
          ],
          "name": "stdout"
        },
        {
          "output_type": "stream",
          "text": [
            "loss: 0.3571 ||: 100%|██████████| 17/17 [00:01<00:00, 15.60it/s]\n",
            "BLEU: 0.0353, loss: 0.5212 ||: 100%|██████████| 3/3 [00:00<00:00,  4.77it/s]\n",
            "  0%|          | 0/17 [00:00<?, ?it/s]"
          ],
          "name": "stderr"
        },
        {
          "output_type": "stream",
          "text": [
            "Epoch: 32\n"
          ],
          "name": "stdout"
        },
        {
          "output_type": "stream",
          "text": [
            "loss: 0.3326 ||: 100%|██████████| 17/17 [00:01<00:00, 15.67it/s]\n",
            "BLEU: 0.0713, loss: 0.6954 ||: 100%|██████████| 3/3 [00:00<00:00,  4.99it/s]\n",
            "  0%|          | 0/17 [00:00<?, ?it/s]"
          ],
          "name": "stderr"
        },
        {
          "output_type": "stream",
          "text": [
            "Epoch: 33\n"
          ],
          "name": "stdout"
        },
        {
          "output_type": "stream",
          "text": [
            "loss: 0.3085 ||: 100%|██████████| 17/17 [00:01<00:00, 15.33it/s]\n",
            "BLEU: 0.1003, loss: 0.4891 ||: 100%|██████████| 3/3 [00:00<00:00,  4.73it/s]\n",
            "  0%|          | 0/17 [00:00<?, ?it/s]"
          ],
          "name": "stderr"
        },
        {
          "output_type": "stream",
          "text": [
            "Epoch: 34\n"
          ],
          "name": "stdout"
        },
        {
          "output_type": "stream",
          "text": [
            "loss: 0.2903 ||: 100%|██████████| 17/17 [00:01<00:00, 15.43it/s]\n",
            "BLEU: 0.1074, loss: 0.6299 ||: 100%|██████████| 3/3 [00:00<00:00,  5.45it/s]\n",
            "loss: 0.2665 ||:  12%|█▏        | 2/17 [00:00<00:00, 16.06it/s]"
          ],
          "name": "stderr"
        },
        {
          "output_type": "stream",
          "text": [
            "Epoch: 35\n"
          ],
          "name": "stdout"
        },
        {
          "output_type": "stream",
          "text": [
            "loss: 0.2719 ||: 100%|██████████| 17/17 [00:01<00:00, 15.45it/s]\n",
            "BLEU: 0.1222, loss: 0.4599 ||: 100%|██████████| 3/3 [00:00<00:00,  5.77it/s]\n",
            "loss: 0.2698 ||:  12%|█▏        | 2/17 [00:00<00:01, 13.69it/s]"
          ],
          "name": "stderr"
        },
        {
          "output_type": "stream",
          "text": [
            "Epoch: 36\n"
          ],
          "name": "stdout"
        },
        {
          "output_type": "stream",
          "text": [
            "loss: 0.2515 ||: 100%|██████████| 17/17 [00:01<00:00, 14.31it/s]\n",
            "BLEU: 0.1008, loss: 0.4269 ||: 100%|██████████| 3/3 [00:00<00:00,  5.57it/s]\n",
            "loss: 0.2454 ||:  12%|█▏        | 2/17 [00:00<00:01, 13.65it/s]"
          ],
          "name": "stderr"
        },
        {
          "output_type": "stream",
          "text": [
            "Epoch: 37\n"
          ],
          "name": "stdout"
        },
        {
          "output_type": "stream",
          "text": [
            "loss: 0.2361 ||: 100%|██████████| 17/17 [00:01<00:00, 15.85it/s]\n",
            "BLEU: 0.1137, loss: 0.5503 ||: 100%|██████████| 3/3 [00:00<00:00,  4.65it/s]\n",
            "  0%|          | 0/17 [00:00<?, ?it/s]"
          ],
          "name": "stderr"
        },
        {
          "output_type": "stream",
          "text": [
            "Epoch: 38\n"
          ],
          "name": "stdout"
        },
        {
          "output_type": "stream",
          "text": [
            "loss: 0.2222 ||: 100%|██████████| 17/17 [00:01<00:00, 15.96it/s]\n",
            "BLEU: 0.1234, loss: 0.4111 ||: 100%|██████████| 3/3 [00:00<00:00,  5.18it/s]\n",
            "  0%|          | 0/17 [00:00<?, ?it/s]"
          ],
          "name": "stderr"
        },
        {
          "output_type": "stream",
          "text": [
            "Epoch: 39\n"
          ],
          "name": "stdout"
        },
        {
          "output_type": "stream",
          "text": [
            "loss: 0.2147 ||: 100%|██████████| 17/17 [00:01<00:00, 15.52it/s]\n",
            "BLEU: 0.1196, loss: 0.3935 ||: 100%|██████████| 3/3 [00:00<00:00,  4.42it/s]\n",
            "loss: 0.2173 ||:  12%|█▏        | 2/17 [00:00<00:01, 12.87it/s]"
          ],
          "name": "stderr"
        },
        {
          "output_type": "stream",
          "text": [
            "Epoch: 40\n"
          ],
          "name": "stdout"
        },
        {
          "output_type": "stream",
          "text": [
            "loss: 0.2052 ||: 100%|██████████| 17/17 [00:01<00:00, 15.73it/s]\n",
            "BLEU: 0.0877, loss: 0.4721 ||: 100%|██████████| 3/3 [00:00<00:00,  4.57it/s]\n",
            "  0%|          | 0/17 [00:00<?, ?it/s]"
          ],
          "name": "stderr"
        },
        {
          "output_type": "stream",
          "text": [
            "Epoch: 41\n"
          ],
          "name": "stdout"
        },
        {
          "output_type": "stream",
          "text": [
            "loss: 0.1966 ||: 100%|██████████| 17/17 [00:01<00:00, 15.25it/s]\n",
            "BLEU: 0.1636, loss: 0.4994 ||: 100%|██████████| 3/3 [00:00<00:00,  5.16it/s]\n",
            "loss: 0.1850 ||:  12%|█▏        | 2/17 [00:00<00:01, 13.21it/s]"
          ],
          "name": "stderr"
        },
        {
          "output_type": "stream",
          "text": [
            "Epoch: 42\n"
          ],
          "name": "stdout"
        },
        {
          "output_type": "stream",
          "text": [
            "loss: 0.1871 ||: 100%|██████████| 17/17 [00:01<00:00, 15.33it/s]\n",
            "BLEU: 0.1135, loss: 0.4394 ||: 100%|██████████| 3/3 [00:00<00:00,  4.26it/s]\n",
            "  0%|          | 0/17 [00:00<?, ?it/s]"
          ],
          "name": "stderr"
        },
        {
          "output_type": "stream",
          "text": [
            "Epoch: 43\n"
          ],
          "name": "stdout"
        },
        {
          "output_type": "stream",
          "text": [
            "loss: 0.1735 ||: 100%|██████████| 17/17 [00:01<00:00, 15.59it/s]\n",
            "BLEU: 0.1309, loss: 0.4127 ||: 100%|██████████| 3/3 [00:00<00:00,  4.71it/s]\n",
            "loss: 0.1524 ||:  12%|█▏        | 2/17 [00:00<00:01, 14.86it/s]"
          ],
          "name": "stderr"
        },
        {
          "output_type": "stream",
          "text": [
            "Epoch: 44\n"
          ],
          "name": "stdout"
        },
        {
          "output_type": "stream",
          "text": [
            "loss: 0.1690 ||: 100%|██████████| 17/17 [00:01<00:00, 15.59it/s]\n",
            "BLEU: 0.1050, loss: 0.4665 ||: 100%|██████████| 3/3 [00:00<00:00,  5.22it/s]\n",
            "  0%|          | 0/17 [00:00<?, ?it/s]"
          ],
          "name": "stderr"
        },
        {
          "output_type": "stream",
          "text": [
            "Epoch: 45\n"
          ],
          "name": "stdout"
        },
        {
          "output_type": "stream",
          "text": [
            "loss: 0.1619 ||: 100%|██████████| 17/17 [00:01<00:00, 15.57it/s]\n",
            "BLEU: 0.1652, loss: 0.4310 ||: 100%|██████████| 3/3 [00:00<00:00,  5.23it/s]\n",
            "  0%|          | 0/17 [00:00<?, ?it/s]"
          ],
          "name": "stderr"
        },
        {
          "output_type": "stream",
          "text": [
            "Epoch: 46\n"
          ],
          "name": "stdout"
        },
        {
          "output_type": "stream",
          "text": [
            "loss: 0.1577 ||: 100%|██████████| 17/17 [00:01<00:00, 15.53it/s]\n",
            "BLEU: 0.1796, loss: 0.3206 ||: 100%|██████████| 3/3 [00:00<00:00,  5.11it/s]\n",
            "loss: 0.1518 ||:  12%|█▏        | 2/17 [00:00<00:01, 14.89it/s]"
          ],
          "name": "stderr"
        },
        {
          "output_type": "stream",
          "text": [
            "Epoch: 47\n"
          ],
          "name": "stdout"
        },
        {
          "output_type": "stream",
          "text": [
            "loss: 0.1604 ||: 100%|██████████| 17/17 [00:01<00:00, 15.64it/s]\n",
            "BLEU: 0.2164, loss: 0.3554 ||: 100%|██████████| 3/3 [00:00<00:00,  4.44it/s]\n",
            "loss: 0.1882 ||:  12%|█▏        | 2/17 [00:00<00:01, 14.18it/s]"
          ],
          "name": "stderr"
        },
        {
          "output_type": "stream",
          "text": [
            "Epoch: 48\n"
          ],
          "name": "stdout"
        },
        {
          "output_type": "stream",
          "text": [
            "loss: 0.1482 ||: 100%|██████████| 17/17 [00:01<00:00, 15.55it/s]\n",
            "BLEU: 0.1932, loss: 0.3435 ||: 100%|██████████| 3/3 [00:00<00:00,  4.11it/s]\n",
            "loss: 0.1278 ||:  12%|█▏        | 2/17 [00:00<00:01, 13.57it/s]"
          ],
          "name": "stderr"
        },
        {
          "output_type": "stream",
          "text": [
            "Epoch: 49\n"
          ],
          "name": "stdout"
        },
        {
          "output_type": "stream",
          "text": [
            "loss: 0.1343 ||: 100%|██████████| 17/17 [00:01<00:00, 15.71it/s]\n",
            "BLEU: 0.2314, loss: 0.3391 ||: 100%|██████████| 3/3 [00:00<00:00,  4.58it/s]\n"
          ],
          "name": "stderr"
        },
        {
          "output_type": "stream",
          "text": [
            "SOURCE: [@start@, Are, you, young, ?, @end@]\n",
            "GOLD: [@start@, A, g, e,  , d, o, e, s, n, ', t,  , r, e, a, l, l, y,  , a, p, p, l, y,  , t, o,  , m, e, ., @end@]\n",
            "PRED: ['I', \"'\", 'm', ' ', 'd', 'i', 'g', 'i', 't', 'a', 'l', '.']\n",
            "SOURCE: [@start@, What, do, you, want, to, know, about, me, ?, @end@]\n",
            "GOLD: [@start@, I, ', m,  , b, e, t, t, e, r,  , a, t,  , a, n, s, w, e, r, i, n, g,  , q, u, e, s, t, i, o, n, s, ., @end@]\n",
            "PRED: ['V', 'e', 'r', 'y', ' ', 'w', 'e', 'l', 'l', '.']\n",
            "SOURCE: [@start@, You, bore, me, @end@]\n",
            "GOLD: [@start@, I,  , a, i, m,  , f, o, r,  , e, f, f, i, c, i, e, n, c, y, ., @end@]\n",
            "PRED: ['I', ' ', 'a', 'p', 'o', 'l', 'o', 'g', 'i', 'z', 'e', '.']\n",
            "SOURCE: [@start@, Why, are, you, so, boring, ?, @end@]\n",
            "GOLD: [@start@, I,  , a, i, m,  , f, o, r,  , e, f, f, i, c, i, e, n, c, y, ., @end@]\n",
            "PRED: ['I', ' ', 'd', 'o', 'n', \"'\", 't', ' ', 'h', 'a', 'v', 'e', ' ', 'f', 'a', 'm', 'i', 'l', 'y', '.']\n",
            "SOURCE: [@start@, Cook, me, something, @end@]\n",
            "GOLD: [@start@, T, h, a, t, ', s,  , n, o, t,  , s, o, m, e, t, h, i, n, g,  , I,  , c, a, n,  , d, o, ., @end@]\n",
            "PRED: ['N', 'o', 't', ' ', 'a', 't', ' ', 'a', 'l', 'l', '.']\n",
            "SOURCE: [@start@, What, can, you, do, ?, @end@]\n",
            "GOLD: [@start@, I, ', m,  , h, e, r, e,  , t, o,  , a, n, s, w, e, r,  , y, o, u, r,  , q, u, e, s, t, i, o, n, s,  , a, n, d,  , h, e, l, p,  , o, u, t, ., @end@]\n",
            "PRED: ['I', ' ', 'd', 'o', 'n', \"'\", 't', ' ', 'h', 'a', 'v', 'e', ' ', 'a', ' ', 'n', 'a', 'm', 'e', '.']\n",
            "SOURCE: [@start@, Which, people, made, you, ?, @end@]\n",
            "GOLD: [@start@, P, e, o, p, l, e,  , c, r, e, a, t, e, d,  , m, e, ., @end@]\n",
            "PRED: ['C', 'e', 'r', 't', 'a', 'i', 'n', 'l', 'y', '.']\n",
            "SOURCE: [@start@, Do, you, have, a, family, ?, @end@]\n",
            "GOLD: [@start@, I,  , d, o, n, ', t,  , h, a, v, e,  , f, a, m, i, l, y, ., @end@]\n",
            "PRED: ['I', ' ', 'd', 'o', 'n', \"'\", 't', ' ', 'h', 'a', 'v', 'e', ' ', 'f', 'a', 'm', 'i', 'l', 'y', '.']\n",
            "SOURCE: [@start@, Are, you, a, man, ?, @end@]\n",
            "GOLD: [@start@, T, h, a, t, ', s,  , a,  , b, i, o, l, o, g, i, c, a, l,  , c, o, n, c, e, p, t,  , t, h, a, t,  , d, o, e, s, n, ', t,  , a, p, p, l, y,  , t, o,  , m, e, ., @end@]\n",
            "PRED: ['I', \"'\", 'm', ' ', 'd', 'i', 'g', 'i', 't', 'a', 'l', '.']\n",
            "SOURCE: [@start@, What, 's, your, gender, ?, @end@]\n",
            "GOLD: [@start@, T, h, a, t, ', s,  , a,  , b, i, o, l, o, g, i, c, a, l,  , c, o, n, c, e, p, t,  , t, h, a, t,  , d, o, e, s, n, ', t,  , a, p, p, l, y,  , t, o,  , m, e, ., @end@]\n",
            "PRED: ['I', ' ', 'd', 'o', 'n', \"'\", 't', ' ', 'h', 'a', 'v', 'e', ' ', 'f', 'a', 'm', 'i', 'l', 'y', '.']\n"
          ],
          "name": "stdout"
        },
        {
          "output_type": "execute_result",
          "data": {
            "text/plain": [
              "{'best_epoch': 46,\n",
              " 'best_validation_BLEU': 0.17964834325228898,\n",
              " 'best_validation_loss': 0.3206319808959961,\n",
              " 'epoch': 0,\n",
              " 'peak_cpu_memory_MB': 3669.104,\n",
              " 'peak_gpu_0_memory_MB': 1371,\n",
              " 'training_cpu_memory_MB': 3669.104,\n",
              " 'training_duration': '00:00:01',\n",
              " 'training_epochs': 0,\n",
              " 'training_gpu_0_memory_MB': 1371,\n",
              " 'training_loss': 0.13425707466462078,\n",
              " 'training_start_epoch': 0,\n",
              " 'validation_BLEU': 0.2313778655724189,\n",
              " 'validation_loss': 0.3390659987926483}"
            ]
          },
          "metadata": {
            "tags": []
          },
          "execution_count": 65
        }
      ]
    },
    {
      "metadata": {
        "id": "T0S_4iyLDjnw",
        "colab_type": "code",
        "colab": {
          "base_uri": "https://localhost:8080/",
          "height": 545
        },
        "outputId": "f4f690d8-8b0d-47a5-9854-9b7427e40688"
      },
      "cell_type": "code",
      "source": [
        "for instance in itertools.islice(train_dataset, 10):\n",
        "    print('SOURCE:', instance.fields['source_tokens'].tokens)\n",
        "    print('GOLD:', instance.fields['target_tokens'].tokens)\n",
        "    print('PRED:', ''.join(predictor.predict_instance(instance)['predicted_tokens']))"
      ],
      "execution_count": 73,
      "outputs": [
        {
          "output_type": "stream",
          "text": [
            "SOURCE: [@start@, When, were, you, born, ?, @end@]\n",
            "GOLD: [@start@, A, g, e,  , d, o, e, s, n, ', t,  , r, e, a, l, l, y,  , a, p, p, l, y,  , t, o,  , m, e, ., @end@]\n",
            "PRED: Got it.\n",
            "SOURCE: [@start@, What, age, are, you, ?, @end@]\n",
            "GOLD: [@start@, A, g, e,  , d, o, e, s, n, ', t,  , r, e, a, l, l, y,  , a, p, p, l, y,  , t, o,  , m, e, ., @end@]\n",
            "PRED: I don't have a body.\n",
            "SOURCE: [@start@, Are, you, old, ?, @end@]\n",
            "GOLD: [@start@, A, g, e,  , d, o, e, s, n, ', t,  , r, e, a, l, l, y,  , a, p, p, l, y,  , t, o,  , m, e, ., @end@]\n",
            "PRED: I'm digital.\n",
            "SOURCE: [@start@, How, old, are, you, ?, @end@]\n",
            "GOLD: [@start@, A, g, e,  , d, o, e, s, n, ', t,  , r, e, a, l, l, y,  , a, p, p, l, y,  , t, o,  , m, e, ., @end@]\n",
            "PRED: Great, thanks.\n",
            "SOURCE: [@start@, How, long, ago, were, you, born, ?, @end@]\n",
            "GOLD: [@start@, A, g, e,  , d, o, e, s, n, ', t,  , r, e, a, l, l, y,  , a, p, p, l, y,  , t, o,  , m, e, ., @end@]\n",
            "PRED: Great, thanks.\n",
            "SOURCE: [@start@, Ask, me, anything, @end@]\n",
            "GOLD: [@start@, I, ', m,  , b, e, t, t, e, r,  , a, t,  , a, n, s, w, e, r, i, n, g,  , q, u, e, s, t, i, o, n, s, ., @end@]\n",
            "PRED: Not at all.\n",
            "SOURCE: [@start@, Ask, me, a, question, @end@]\n",
            "GOLD: [@start@, I, ', m,  , b, e, t, t, e, r,  , a, t,  , a, n, s, w, e, r, i, n, g,  , q, u, e, s, t, i, o, n, s, ., @end@]\n",
            "PRED: Not at all.\n",
            "SOURCE: [@start@, Can, you, ask, me, a, question, ?, @end@]\n",
            "GOLD: [@start@, I, ', m,  , b, e, t, t, e, r,  , a, t,  , a, n, s, w, e, r, i, n, g,  , q, u, e, s, t, i, o, n, s, ., @end@]\n",
            "PRED: That's not something I can do.\n",
            "SOURCE: [@start@, Can, you, sleep, ?, @end@]\n",
            "GOLD: [@start@, I,  , d, o, n, ', t,  , h, a, v, e,  , a,  , b, o, d, y, ., @end@]\n",
            "PRED: I don't have a body.\n",
            "SOURCE: [@start@, Do, you, have, boogers, ?, @end@]\n",
            "GOLD: [@start@, I,  , d, o, n, ', t,  , h, a, v, e,  , a,  , b, o, d, y, ., @end@]\n",
            "PRED: I don't have family.\n"
          ],
          "name": "stdout"
        }
      ]
    },
    {
      "metadata": {
        "id": "srkKPJ_UE8O4",
        "colab_type": "code",
        "colab": {
          "base_uri": "https://localhost:8080/",
          "height": 34
        },
        "outputId": "cde1594e-d55d-457e-f8fd-488228b18332"
      },
      "cell_type": "code",
      "source": [
        "''.join(predictor.predict_instance(instance)['predicted_tokens'])"
      ],
      "execution_count": 70,
      "outputs": [
        {
          "output_type": "execute_result",
          "data": {
            "text/plain": [
              "\"I don't have family.\""
            ]
          },
          "metadata": {
            "tags": []
          },
          "execution_count": 70
        }
      ]
    }
  ]
}